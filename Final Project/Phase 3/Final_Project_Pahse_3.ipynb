{
  "nbformat": 4,
  "nbformat_minor": 0,
  "metadata": {
    "colab": {
      "provenance": []
    },
    "kernelspec": {
      "name": "python3",
      "display_name": "Python 3"
    },
    "language_info": {
      "name": "python"
    }
  },
  "cells": [
    {
      "cell_type": "markdown",
      "source": [
        "Fundamnetals of Data Science Project Phase 3\n",
        "\n",
        "Name: Kimia Mohsenian\n",
        "\n",
        "Student ID: 97110671\n",
        "\n",
        "Instructor: Dr. Khalaj\n",
        "\n",
        "Fall 2022"
      ],
      "metadata": {
        "id": "LQvvP7vEB_Ol"
      }
    },
    {
      "cell_type": "markdown",
      "source": [
        "# Part 0: Importing libraries"
      ],
      "metadata": {
        "id": "nAv96S5pFjmQ"
      }
    },
    {
      "cell_type": "code",
      "execution_count": 1,
      "metadata": {
        "id": "X5jAm2A7U9bT",
        "colab": {
          "base_uri": "https://localhost:8080/"
        },
        "outputId": "315a8aab-efbc-4bf3-d2be-179cc6ad57c4"
      },
      "outputs": [
        {
          "output_type": "stream",
          "name": "stdout",
          "text": [
            "Drive already mounted at /content/gdrive; to attempt to forcibly remount, call drive.mount(\"/content/gdrive\", force_remount=True).\n"
          ]
        }
      ],
      "source": [
        "from google.colab import drive\n",
        "drive.mount('/content/gdrive')"
      ]
    },
    {
      "cell_type": "code",
      "source": [
        "pip install emoji"
      ],
      "metadata": {
        "colab": {
          "base_uri": "https://localhost:8080/"
        },
        "id": "UX1_8Na80RtC",
        "outputId": "6c54e653-1537-43a4-cdae-e998e3a6cfba"
      },
      "execution_count": 2,
      "outputs": [
        {
          "output_type": "stream",
          "name": "stdout",
          "text": [
            "Looking in indexes: https://pypi.org/simple, https://us-python.pkg.dev/colab-wheels/public/simple/\n",
            "Requirement already satisfied: emoji in /usr/local/lib/python3.8/dist-packages (2.2.0)\n"
          ]
        }
      ]
    },
    {
      "cell_type": "code",
      "source": [
        "import numpy as np\n",
        "import pandas as pd\n",
        "import matplotlib.pyplot as plt\n",
        "from matplotlib.pyplot import figure\n",
        "import pickle\n",
        "from itertools import islice\n",
        "import seaborn as sns\n",
        "import string\n",
        "from string import digits\n",
        "import re\n",
        "import emoji\n",
        "import nltk\n",
        "from nltk.stem import WordNetLemmatizer\n",
        "from sklearn.feature_extraction.text import CountVectorizer\n",
        "from sklearn.feature_extraction.text import TfidfVectorizer\n",
        "from sklearn.linear_model import LogisticRegression\n",
        "from sklearn.model_selection import train_test_split\n",
        "from sklearn.metrics import f1_score\n",
        "from nltk.tokenize import word_tokenize\n",
        "from scipy.stats import pearsonr\n",
        "from scipy.stats import spearmanr\n",
        "from sklearn.metrics import accuracy_score\n",
        "from string import digits"
      ],
      "metadata": {
        "id": "LHrAUCx1VETS"
      },
      "execution_count": 3,
      "outputs": []
    },
    {
      "cell_type": "markdown",
      "source": [
        "# Part 1: Loading the dataset, Tweets text processing and Classification using the pre-trained models of ohase 1"
      ],
      "metadata": {
        "id": "fUiYyJmoZ6JG"
      }
    },
    {
      "cell_type": "markdown",
      "source": [
        "### Loading the dataset:"
      ],
      "metadata": {
        "id": "llRCctqk3K9U"
      }
    },
    {
      "cell_type": "code",
      "source": [
        "tweets = pd.read_csv('gdrive/MyDrive/DataScience/Project/dataset/tweets.csv')"
      ],
      "metadata": {
        "id": "wdJWriQThWE8"
      },
      "execution_count": 4,
      "outputs": []
    },
    {
      "cell_type": "code",
      "source": [
        "tweets.head(3)"
      ],
      "metadata": {
        "colab": {
          "base_uri": "https://localhost:8080/",
          "height": 240
        },
        "id": "zbt6g0p8ycWj",
        "outputId": "fa725498-8650-4f68-c40f-2e63999da88b"
      },
      "execution_count": 5,
      "outputs": [
        {
          "output_type": "execute_result",
          "data": {
            "text/plain": [
              "                   id                                               text  \\\n",
              "0  865326129644797957  RT @cruzfloresiv: To all the weak hands who so...   \n",
              "1  865326133008642049  Investors Eye Fed, But Bond ETFs Still Add Ass...   \n",
              "2  865326134262681600  Sell $NLNK (Ne❑wLink Genetics Corporation) tha...   \n",
              "\n",
              "              user_id  in_reply_to_status_id  in_reply_to_user_id  \\\n",
              "0  859451814940336128                      0                    0   \n",
              "1            44060322                      0                    0   \n",
              "2  713570637306986496                      0                    0   \n",
              "\n",
              "   retweeted_status_id  retweeted_user_id lang  \\\n",
              "0   865323140531896320         3005609114   en   \n",
              "1                    0                  0   en   \n",
              "2                    0                  0   en   \n",
              "\n",
              "                                              source  \\\n",
              "0  <a href=\"http://twitter.com/download/iphone\" r...   \n",
              "1  <a href=\"https://about.twitter.com/products/tw...   \n",
              "2  <a href=\"https://u.9999yea.rs/bots/\" rel=\"nofo...   \n",
              "\n",
              "                       created_at  \n",
              "0  Thu May 18 22:00:00 +0000 2017  \n",
              "1  Thu May 18 22:00:01 +0000 2017  \n",
              "2  Thu May 18 22:00:02 +0000 2017  "
            ],
            "text/html": [
              "\n",
              "  <div id=\"df-78eb12b3-3680-4df2-a9f6-3ccccfe1228d\">\n",
              "    <div class=\"colab-df-container\">\n",
              "      <div>\n",
              "<style scoped>\n",
              "    .dataframe tbody tr th:only-of-type {\n",
              "        vertical-align: middle;\n",
              "    }\n",
              "\n",
              "    .dataframe tbody tr th {\n",
              "        vertical-align: top;\n",
              "    }\n",
              "\n",
              "    .dataframe thead th {\n",
              "        text-align: right;\n",
              "    }\n",
              "</style>\n",
              "<table border=\"1\" class=\"dataframe\">\n",
              "  <thead>\n",
              "    <tr style=\"text-align: right;\">\n",
              "      <th></th>\n",
              "      <th>id</th>\n",
              "      <th>text</th>\n",
              "      <th>user_id</th>\n",
              "      <th>in_reply_to_status_id</th>\n",
              "      <th>in_reply_to_user_id</th>\n",
              "      <th>retweeted_status_id</th>\n",
              "      <th>retweeted_user_id</th>\n",
              "      <th>lang</th>\n",
              "      <th>source</th>\n",
              "      <th>created_at</th>\n",
              "    </tr>\n",
              "  </thead>\n",
              "  <tbody>\n",
              "    <tr>\n",
              "      <th>0</th>\n",
              "      <td>865326129644797957</td>\n",
              "      <td>RT @cruzfloresiv: To all the weak hands who so...</td>\n",
              "      <td>859451814940336128</td>\n",
              "      <td>0</td>\n",
              "      <td>0</td>\n",
              "      <td>865323140531896320</td>\n",
              "      <td>3005609114</td>\n",
              "      <td>en</td>\n",
              "      <td>&lt;a href=\"http://twitter.com/download/iphone\" r...</td>\n",
              "      <td>Thu May 18 22:00:00 +0000 2017</td>\n",
              "    </tr>\n",
              "    <tr>\n",
              "      <th>1</th>\n",
              "      <td>865326133008642049</td>\n",
              "      <td>Investors Eye Fed, But Bond ETFs Still Add Ass...</td>\n",
              "      <td>44060322</td>\n",
              "      <td>0</td>\n",
              "      <td>0</td>\n",
              "      <td>0</td>\n",
              "      <td>0</td>\n",
              "      <td>en</td>\n",
              "      <td>&lt;a href=\"https://about.twitter.com/products/tw...</td>\n",
              "      <td>Thu May 18 22:00:01 +0000 2017</td>\n",
              "    </tr>\n",
              "    <tr>\n",
              "      <th>2</th>\n",
              "      <td>865326134262681600</td>\n",
              "      <td>Sell $NLNK (Ne❑wLink Genetics Corporation) tha...</td>\n",
              "      <td>713570637306986496</td>\n",
              "      <td>0</td>\n",
              "      <td>0</td>\n",
              "      <td>0</td>\n",
              "      <td>0</td>\n",
              "      <td>en</td>\n",
              "      <td>&lt;a href=\"https://u.9999yea.rs/bots/\" rel=\"nofo...</td>\n",
              "      <td>Thu May 18 22:00:02 +0000 2017</td>\n",
              "    </tr>\n",
              "  </tbody>\n",
              "</table>\n",
              "</div>\n",
              "      <button class=\"colab-df-convert\" onclick=\"convertToInteractive('df-78eb12b3-3680-4df2-a9f6-3ccccfe1228d')\"\n",
              "              title=\"Convert this dataframe to an interactive table.\"\n",
              "              style=\"display:none;\">\n",
              "        \n",
              "  <svg xmlns=\"http://www.w3.org/2000/svg\" height=\"24px\"viewBox=\"0 0 24 24\"\n",
              "       width=\"24px\">\n",
              "    <path d=\"M0 0h24v24H0V0z\" fill=\"none\"/>\n",
              "    <path d=\"M18.56 5.44l.94 2.06.94-2.06 2.06-.94-2.06-.94-.94-2.06-.94 2.06-2.06.94zm-11 1L8.5 8.5l.94-2.06 2.06-.94-2.06-.94L8.5 2.5l-.94 2.06-2.06.94zm10 10l.94 2.06.94-2.06 2.06-.94-2.06-.94-.94-2.06-.94 2.06-2.06.94z\"/><path d=\"M17.41 7.96l-1.37-1.37c-.4-.4-.92-.59-1.43-.59-.52 0-1.04.2-1.43.59L10.3 9.45l-7.72 7.72c-.78.78-.78 2.05 0 2.83L4 21.41c.39.39.9.59 1.41.59.51 0 1.02-.2 1.41-.59l7.78-7.78 2.81-2.81c.8-.78.8-2.07 0-2.86zM5.41 20L4 18.59l7.72-7.72 1.47 1.35L5.41 20z\"/>\n",
              "  </svg>\n",
              "      </button>\n",
              "      \n",
              "  <style>\n",
              "    .colab-df-container {\n",
              "      display:flex;\n",
              "      flex-wrap:wrap;\n",
              "      gap: 12px;\n",
              "    }\n",
              "\n",
              "    .colab-df-convert {\n",
              "      background-color: #E8F0FE;\n",
              "      border: none;\n",
              "      border-radius: 50%;\n",
              "      cursor: pointer;\n",
              "      display: none;\n",
              "      fill: #1967D2;\n",
              "      height: 32px;\n",
              "      padding: 0 0 0 0;\n",
              "      width: 32px;\n",
              "    }\n",
              "\n",
              "    .colab-df-convert:hover {\n",
              "      background-color: #E2EBFA;\n",
              "      box-shadow: 0px 1px 2px rgba(60, 64, 67, 0.3), 0px 1px 3px 1px rgba(60, 64, 67, 0.15);\n",
              "      fill: #174EA6;\n",
              "    }\n",
              "\n",
              "    [theme=dark] .colab-df-convert {\n",
              "      background-color: #3B4455;\n",
              "      fill: #D2E3FC;\n",
              "    }\n",
              "\n",
              "    [theme=dark] .colab-df-convert:hover {\n",
              "      background-color: #434B5C;\n",
              "      box-shadow: 0px 1px 3px 1px rgba(0, 0, 0, 0.15);\n",
              "      filter: drop-shadow(0px 1px 2px rgba(0, 0, 0, 0.3));\n",
              "      fill: #FFFFFF;\n",
              "    }\n",
              "  </style>\n",
              "\n",
              "      <script>\n",
              "        const buttonEl =\n",
              "          document.querySelector('#df-78eb12b3-3680-4df2-a9f6-3ccccfe1228d button.colab-df-convert');\n",
              "        buttonEl.style.display =\n",
              "          google.colab.kernel.accessAllowed ? 'block' : 'none';\n",
              "\n",
              "        async function convertToInteractive(key) {\n",
              "          const element = document.querySelector('#df-78eb12b3-3680-4df2-a9f6-3ccccfe1228d');\n",
              "          const dataTable =\n",
              "            await google.colab.kernel.invokeFunction('convertToInteractive',\n",
              "                                                     [key], {});\n",
              "          if (!dataTable) return;\n",
              "\n",
              "          const docLinkHtml = 'Like what you see? Visit the ' +\n",
              "            '<a target=\"_blank\" href=https://colab.research.google.com/notebooks/data_table.ipynb>data table notebook</a>'\n",
              "            + ' to learn more about interactive tables.';\n",
              "          element.innerHTML = '';\n",
              "          dataTable['output_type'] = 'display_data';\n",
              "          await google.colab.output.renderOutput(dataTable, element);\n",
              "          const docLink = document.createElement('div');\n",
              "          docLink.innerHTML = docLinkHtml;\n",
              "          element.appendChild(docLink);\n",
              "        }\n",
              "      </script>\n",
              "    </div>\n",
              "  </div>\n",
              "  "
            ]
          },
          "metadata": {},
          "execution_count": 5
        }
      ]
    },
    {
      "cell_type": "code",
      "source": [
        "companies = pd.read_csv('gdrive/MyDrive/DataScience/Project/dataset/companies.csv')"
      ],
      "metadata": {
        "id": "dOs3qeHOGWOo"
      },
      "execution_count": 6,
      "outputs": []
    },
    {
      "cell_type": "code",
      "source": [
        "companies.head(3)"
      ],
      "metadata": {
        "colab": {
          "base_uri": "https://localhost:8080/",
          "height": 143
        },
        "id": "dwjMjXX7GazW",
        "outputId": "e2294f5b-4cae-4454-f824-f585f137595b"
      },
      "execution_count": 7,
      "outputs": [
        {
          "output_type": "execute_result",
          "data": {
            "text/plain": [
              "  ticker                  name exchange  capitalization\n",
              "0      A  Agilent Technologies     NYSE    1.915000e+10\n",
              "1     AA            Alcoa Corp     NYSE    6.480000e+09\n",
              "2   AAAG  AAA Century Group US  OTCMKTS    9.480000e+06"
            ],
            "text/html": [
              "\n",
              "  <div id=\"df-3bc08e69-59d0-4d3e-a84d-33cbccdd3be7\">\n",
              "    <div class=\"colab-df-container\">\n",
              "      <div>\n",
              "<style scoped>\n",
              "    .dataframe tbody tr th:only-of-type {\n",
              "        vertical-align: middle;\n",
              "    }\n",
              "\n",
              "    .dataframe tbody tr th {\n",
              "        vertical-align: top;\n",
              "    }\n",
              "\n",
              "    .dataframe thead th {\n",
              "        text-align: right;\n",
              "    }\n",
              "</style>\n",
              "<table border=\"1\" class=\"dataframe\">\n",
              "  <thead>\n",
              "    <tr style=\"text-align: right;\">\n",
              "      <th></th>\n",
              "      <th>ticker</th>\n",
              "      <th>name</th>\n",
              "      <th>exchange</th>\n",
              "      <th>capitalization</th>\n",
              "    </tr>\n",
              "  </thead>\n",
              "  <tbody>\n",
              "    <tr>\n",
              "      <th>0</th>\n",
              "      <td>A</td>\n",
              "      <td>Agilent Technologies</td>\n",
              "      <td>NYSE</td>\n",
              "      <td>1.915000e+10</td>\n",
              "    </tr>\n",
              "    <tr>\n",
              "      <th>1</th>\n",
              "      <td>AA</td>\n",
              "      <td>Alcoa Corp</td>\n",
              "      <td>NYSE</td>\n",
              "      <td>6.480000e+09</td>\n",
              "    </tr>\n",
              "    <tr>\n",
              "      <th>2</th>\n",
              "      <td>AAAG</td>\n",
              "      <td>AAA Century Group US</td>\n",
              "      <td>OTCMKTS</td>\n",
              "      <td>9.480000e+06</td>\n",
              "    </tr>\n",
              "  </tbody>\n",
              "</table>\n",
              "</div>\n",
              "      <button class=\"colab-df-convert\" onclick=\"convertToInteractive('df-3bc08e69-59d0-4d3e-a84d-33cbccdd3be7')\"\n",
              "              title=\"Convert this dataframe to an interactive table.\"\n",
              "              style=\"display:none;\">\n",
              "        \n",
              "  <svg xmlns=\"http://www.w3.org/2000/svg\" height=\"24px\"viewBox=\"0 0 24 24\"\n",
              "       width=\"24px\">\n",
              "    <path d=\"M0 0h24v24H0V0z\" fill=\"none\"/>\n",
              "    <path d=\"M18.56 5.44l.94 2.06.94-2.06 2.06-.94-2.06-.94-.94-2.06-.94 2.06-2.06.94zm-11 1L8.5 8.5l.94-2.06 2.06-.94-2.06-.94L8.5 2.5l-.94 2.06-2.06.94zm10 10l.94 2.06.94-2.06 2.06-.94-2.06-.94-.94-2.06-.94 2.06-2.06.94z\"/><path d=\"M17.41 7.96l-1.37-1.37c-.4-.4-.92-.59-1.43-.59-.52 0-1.04.2-1.43.59L10.3 9.45l-7.72 7.72c-.78.78-.78 2.05 0 2.83L4 21.41c.39.39.9.59 1.41.59.51 0 1.02-.2 1.41-.59l7.78-7.78 2.81-2.81c.8-.78.8-2.07 0-2.86zM5.41 20L4 18.59l7.72-7.72 1.47 1.35L5.41 20z\"/>\n",
              "  </svg>\n",
              "      </button>\n",
              "      \n",
              "  <style>\n",
              "    .colab-df-container {\n",
              "      display:flex;\n",
              "      flex-wrap:wrap;\n",
              "      gap: 12px;\n",
              "    }\n",
              "\n",
              "    .colab-df-convert {\n",
              "      background-color: #E8F0FE;\n",
              "      border: none;\n",
              "      border-radius: 50%;\n",
              "      cursor: pointer;\n",
              "      display: none;\n",
              "      fill: #1967D2;\n",
              "      height: 32px;\n",
              "      padding: 0 0 0 0;\n",
              "      width: 32px;\n",
              "    }\n",
              "\n",
              "    .colab-df-convert:hover {\n",
              "      background-color: #E2EBFA;\n",
              "      box-shadow: 0px 1px 2px rgba(60, 64, 67, 0.3), 0px 1px 3px 1px rgba(60, 64, 67, 0.15);\n",
              "      fill: #174EA6;\n",
              "    }\n",
              "\n",
              "    [theme=dark] .colab-df-convert {\n",
              "      background-color: #3B4455;\n",
              "      fill: #D2E3FC;\n",
              "    }\n",
              "\n",
              "    [theme=dark] .colab-df-convert:hover {\n",
              "      background-color: #434B5C;\n",
              "      box-shadow: 0px 1px 3px 1px rgba(0, 0, 0, 0.15);\n",
              "      filter: drop-shadow(0px 1px 2px rgba(0, 0, 0, 0.3));\n",
              "      fill: #FFFFFF;\n",
              "    }\n",
              "  </style>\n",
              "\n",
              "      <script>\n",
              "        const buttonEl =\n",
              "          document.querySelector('#df-3bc08e69-59d0-4d3e-a84d-33cbccdd3be7 button.colab-df-convert');\n",
              "        buttonEl.style.display =\n",
              "          google.colab.kernel.accessAllowed ? 'block' : 'none';\n",
              "\n",
              "        async function convertToInteractive(key) {\n",
              "          const element = document.querySelector('#df-3bc08e69-59d0-4d3e-a84d-33cbccdd3be7');\n",
              "          const dataTable =\n",
              "            await google.colab.kernel.invokeFunction('convertToInteractive',\n",
              "                                                     [key], {});\n",
              "          if (!dataTable) return;\n",
              "\n",
              "          const docLinkHtml = 'Like what you see? Visit the ' +\n",
              "            '<a target=\"_blank\" href=https://colab.research.google.com/notebooks/data_table.ipynb>data table notebook</a>'\n",
              "            + ' to learn more about interactive tables.';\n",
              "          element.innerHTML = '';\n",
              "          dataTable['output_type'] = 'display_data';\n",
              "          await google.colab.output.renderOutput(dataTable, element);\n",
              "          const docLink = document.createElement('div');\n",
              "          docLink.innerHTML = docLinkHtml;\n",
              "          element.appendChild(docLink);\n",
              "        }\n",
              "      </script>\n",
              "    </div>\n",
              "  </div>\n",
              "  "
            ]
          },
          "metadata": {},
          "execution_count": 7
        }
      ]
    },
    {
      "cell_type": "code",
      "source": [
        "print('Number of companies: ', len(companies))"
      ],
      "metadata": {
        "colab": {
          "base_uri": "https://localhost:8080/"
        },
        "id": "Dt14fdSrKI77",
        "outputId": "7e9e8888-7ed0-49ed-807f-96f67bafe0f9"
      },
      "execution_count": 8,
      "outputs": [
        {
          "output_type": "stream",
          "name": "stdout",
          "text": [
            "Number of companies:  30032\n"
          ]
        }
      ]
    },
    {
      "cell_type": "code",
      "source": [
        "N_tweets =  len(tweets)\n",
        "print('Number of tweets: ', N_tweets)\n",
        "N_tweets_new = int(N_tweets/800)\n",
        "print('Number of tweets in the reduced dataframe: ', N_tweets_new)\n",
        "tweets_reduced = tweets.sample(n=N_tweets_new,replace=False)\n",
        "tweets_reduced = tweets_reduced.reset_index()"
      ],
      "metadata": {
        "colab": {
          "base_uri": "https://localhost:8080/"
        },
        "id": "EaEnBr3n105m",
        "outputId": "ab5f9748-785a-4559-c4cd-312283381793"
      },
      "execution_count": 9,
      "outputs": [
        {
          "output_type": "stream",
          "name": "stdout",
          "text": [
            "Number of tweets:  9091539\n",
            "Number of tweets in the reduced dataframe:  11364\n"
          ]
        }
      ]
    },
    {
      "cell_type": "markdown",
      "source": [
        "### Cleaning the tweets:"
      ],
      "metadata": {
        "id": "DtiQWgvS4VB1"
      }
    },
    {
      "cell_type": "code",
      "source": [
        "def tweet_cleaner(tweet):\n",
        "    # removing hashtag signs\n",
        "    tweet = tweet.replace(\"#\", \"\").replace(\"_\", \" \")\n",
        "    # removing @ sign\n",
        "    tweet = re.sub(\"@[A-Za-z0-9]+\",\"\",tweet)\n",
        "    # removing links                           \n",
        "    tweet = re.sub(r\"(?:\\@|http?\\://|https?\\://|www)\\S+\", \"\", tweet)   \n",
        "    tweet = \" \".join(tweet.split())\n",
        "    # removing emojis\n",
        "    tweet = ''.join(c for c in tweet if c not in emoji.EMOJI_DATA)\n",
        "    # removing captalization\n",
        "    tweet = tweet.lower().strip()\n",
        "    # removing numbers\n",
        "    remove_digits = str.maketrans('', '', digits)\n",
        "    tweet = tweet.translate(remove_digits)\n",
        "    # removing punctuation marks\n",
        "    tweet = tweet.translate(str.maketrans('', '', string.punctuation))\n",
        "    return tweet"
      ],
      "metadata": {
        "id": "MAS-U_f3zwRP"
      },
      "execution_count": 10,
      "outputs": []
    },
    {
      "cell_type": "code",
      "source": [
        "tweets_reduced['tweet'] = tweets_reduced['text'].map(lambda tweet: tweet_cleaner(tweet))"
      ],
      "metadata": {
        "id": "q_iGF85k0NEa"
      },
      "execution_count": 11,
      "outputs": []
    },
    {
      "cell_type": "markdown",
      "source": [
        "### Tokenizing:"
      ],
      "metadata": {
        "id": "volHjAXX5Mkh"
      }
    },
    {
      "cell_type": "code",
      "source": [
        "nltk.download('punkt')"
      ],
      "metadata": {
        "colab": {
          "base_uri": "https://localhost:8080/"
        },
        "id": "4qacr62O2Ipo",
        "outputId": "182b9ef7-fcbc-4134-cd3f-c612becbdda6"
      },
      "execution_count": 12,
      "outputs": [
        {
          "output_type": "stream",
          "name": "stderr",
          "text": [
            "[nltk_data] Downloading package punkt to /root/nltk_data...\n",
            "[nltk_data]   Package punkt is already up-to-date!\n"
          ]
        },
        {
          "output_type": "execute_result",
          "data": {
            "text/plain": [
              "True"
            ]
          },
          "metadata": {},
          "execution_count": 12
        }
      ]
    },
    {
      "cell_type": "code",
      "source": [
        "tweets_reduced['tokenized_text'] = tweets_reduced['tweet'].apply(word_tokenize) "
      ],
      "metadata": {
        "id": "qVOX49Ka5Suy"
      },
      "execution_count": 13,
      "outputs": []
    },
    {
      "cell_type": "code",
      "source": [
        "tweets_reduced.head(3)"
      ],
      "metadata": {
        "colab": {
          "base_uri": "https://localhost:8080/",
          "height": 364
        },
        "id": "K4sMq1wZ6gzQ",
        "outputId": "2ea5a6ac-8eff-4bc5-b45a-46941f943ef8"
      },
      "execution_count": 14,
      "outputs": [
        {
          "output_type": "execute_result",
          "data": {
            "text/plain": [
              "     index                  id  \\\n",
              "0  7883041  902578773345935361   \n",
              "1  6373391  895742603823652864   \n",
              "2   405902  867337628948979717   \n",
              "\n",
              "                                                text             user_id  \\\n",
              "0  Ray Gerald L &amp; Associates Ltd. Has $6.44 M...  888125801903775744   \n",
              "1  CommonWealth: Camping World Holdings, Inc. Ann...          2616445050   \n",
              "2  $GLYC terminates ATM (Expected as doing offering)           237591901   \n",
              "\n",
              "   in_reply_to_status_id  in_reply_to_user_id  retweeted_status_id  \\\n",
              "0                      0                    0                    0   \n",
              "1                      0                    0                    0   \n",
              "2                      0                    0                    0   \n",
              "\n",
              "   retweeted_user_id lang                                             source  \\\n",
              "0                  0   en  <a href=\"https://ifttt.com\" rel=\"nofollow\">IFT...   \n",
              "1                  0   en  <a href=\"http://www.conferencecalltranscripts....   \n",
              "2                  0   en  <a href=\"https://about.twitter.com/products/tw...   \n",
              "\n",
              "                       created_at  \\\n",
              "0  Tue Aug 29 17:08:43 +0000 2017   \n",
              "1  Thu Aug 10 20:24:13 +0000 2017   \n",
              "2  Wed May 24 11:12:59 +0000 2017   \n",
              "\n",
              "                                               tweet  \\\n",
              "0  ray gerald l amp associates ltd has  million p...   \n",
              "1  commonwealth camping world holdings inc announ...   \n",
              "2     glyc terminates atm expected as doing offering   \n",
              "\n",
              "                                      tokenized_text  \n",
              "0  [ray, gerald, l, amp, associates, ltd, has, mi...  \n",
              "1  [commonwealth, camping, world, holdings, inc, ...  \n",
              "2  [glyc, terminates, atm, expected, as, doing, o...  "
            ],
            "text/html": [
              "\n",
              "  <div id=\"df-62fc3228-c624-4ad8-9df9-f4d82b462f27\">\n",
              "    <div class=\"colab-df-container\">\n",
              "      <div>\n",
              "<style scoped>\n",
              "    .dataframe tbody tr th:only-of-type {\n",
              "        vertical-align: middle;\n",
              "    }\n",
              "\n",
              "    .dataframe tbody tr th {\n",
              "        vertical-align: top;\n",
              "    }\n",
              "\n",
              "    .dataframe thead th {\n",
              "        text-align: right;\n",
              "    }\n",
              "</style>\n",
              "<table border=\"1\" class=\"dataframe\">\n",
              "  <thead>\n",
              "    <tr style=\"text-align: right;\">\n",
              "      <th></th>\n",
              "      <th>index</th>\n",
              "      <th>id</th>\n",
              "      <th>text</th>\n",
              "      <th>user_id</th>\n",
              "      <th>in_reply_to_status_id</th>\n",
              "      <th>in_reply_to_user_id</th>\n",
              "      <th>retweeted_status_id</th>\n",
              "      <th>retweeted_user_id</th>\n",
              "      <th>lang</th>\n",
              "      <th>source</th>\n",
              "      <th>created_at</th>\n",
              "      <th>tweet</th>\n",
              "      <th>tokenized_text</th>\n",
              "    </tr>\n",
              "  </thead>\n",
              "  <tbody>\n",
              "    <tr>\n",
              "      <th>0</th>\n",
              "      <td>7883041</td>\n",
              "      <td>902578773345935361</td>\n",
              "      <td>Ray Gerald L &amp;amp; Associates Ltd. Has $6.44 M...</td>\n",
              "      <td>888125801903775744</td>\n",
              "      <td>0</td>\n",
              "      <td>0</td>\n",
              "      <td>0</td>\n",
              "      <td>0</td>\n",
              "      <td>en</td>\n",
              "      <td>&lt;a href=\"https://ifttt.com\" rel=\"nofollow\"&gt;IFT...</td>\n",
              "      <td>Tue Aug 29 17:08:43 +0000 2017</td>\n",
              "      <td>ray gerald l amp associates ltd has  million p...</td>\n",
              "      <td>[ray, gerald, l, amp, associates, ltd, has, mi...</td>\n",
              "    </tr>\n",
              "    <tr>\n",
              "      <th>1</th>\n",
              "      <td>6373391</td>\n",
              "      <td>895742603823652864</td>\n",
              "      <td>CommonWealth: Camping World Holdings, Inc. Ann...</td>\n",
              "      <td>2616445050</td>\n",
              "      <td>0</td>\n",
              "      <td>0</td>\n",
              "      <td>0</td>\n",
              "      <td>0</td>\n",
              "      <td>en</td>\n",
              "      <td>&lt;a href=\"http://www.conferencecalltranscripts....</td>\n",
              "      <td>Thu Aug 10 20:24:13 +0000 2017</td>\n",
              "      <td>commonwealth camping world holdings inc announ...</td>\n",
              "      <td>[commonwealth, camping, world, holdings, inc, ...</td>\n",
              "    </tr>\n",
              "    <tr>\n",
              "      <th>2</th>\n",
              "      <td>405902</td>\n",
              "      <td>867337628948979717</td>\n",
              "      <td>$GLYC terminates ATM (Expected as doing offering)</td>\n",
              "      <td>237591901</td>\n",
              "      <td>0</td>\n",
              "      <td>0</td>\n",
              "      <td>0</td>\n",
              "      <td>0</td>\n",
              "      <td>en</td>\n",
              "      <td>&lt;a href=\"https://about.twitter.com/products/tw...</td>\n",
              "      <td>Wed May 24 11:12:59 +0000 2017</td>\n",
              "      <td>glyc terminates atm expected as doing offering</td>\n",
              "      <td>[glyc, terminates, atm, expected, as, doing, o...</td>\n",
              "    </tr>\n",
              "  </tbody>\n",
              "</table>\n",
              "</div>\n",
              "      <button class=\"colab-df-convert\" onclick=\"convertToInteractive('df-62fc3228-c624-4ad8-9df9-f4d82b462f27')\"\n",
              "              title=\"Convert this dataframe to an interactive table.\"\n",
              "              style=\"display:none;\">\n",
              "        \n",
              "  <svg xmlns=\"http://www.w3.org/2000/svg\" height=\"24px\"viewBox=\"0 0 24 24\"\n",
              "       width=\"24px\">\n",
              "    <path d=\"M0 0h24v24H0V0z\" fill=\"none\"/>\n",
              "    <path d=\"M18.56 5.44l.94 2.06.94-2.06 2.06-.94-2.06-.94-.94-2.06-.94 2.06-2.06.94zm-11 1L8.5 8.5l.94-2.06 2.06-.94-2.06-.94L8.5 2.5l-.94 2.06-2.06.94zm10 10l.94 2.06.94-2.06 2.06-.94-2.06-.94-.94-2.06-.94 2.06-2.06.94z\"/><path d=\"M17.41 7.96l-1.37-1.37c-.4-.4-.92-.59-1.43-.59-.52 0-1.04.2-1.43.59L10.3 9.45l-7.72 7.72c-.78.78-.78 2.05 0 2.83L4 21.41c.39.39.9.59 1.41.59.51 0 1.02-.2 1.41-.59l7.78-7.78 2.81-2.81c.8-.78.8-2.07 0-2.86zM5.41 20L4 18.59l7.72-7.72 1.47 1.35L5.41 20z\"/>\n",
              "  </svg>\n",
              "      </button>\n",
              "      \n",
              "  <style>\n",
              "    .colab-df-container {\n",
              "      display:flex;\n",
              "      flex-wrap:wrap;\n",
              "      gap: 12px;\n",
              "    }\n",
              "\n",
              "    .colab-df-convert {\n",
              "      background-color: #E8F0FE;\n",
              "      border: none;\n",
              "      border-radius: 50%;\n",
              "      cursor: pointer;\n",
              "      display: none;\n",
              "      fill: #1967D2;\n",
              "      height: 32px;\n",
              "      padding: 0 0 0 0;\n",
              "      width: 32px;\n",
              "    }\n",
              "\n",
              "    .colab-df-convert:hover {\n",
              "      background-color: #E2EBFA;\n",
              "      box-shadow: 0px 1px 2px rgba(60, 64, 67, 0.3), 0px 1px 3px 1px rgba(60, 64, 67, 0.15);\n",
              "      fill: #174EA6;\n",
              "    }\n",
              "\n",
              "    [theme=dark] .colab-df-convert {\n",
              "      background-color: #3B4455;\n",
              "      fill: #D2E3FC;\n",
              "    }\n",
              "\n",
              "    [theme=dark] .colab-df-convert:hover {\n",
              "      background-color: #434B5C;\n",
              "      box-shadow: 0px 1px 3px 1px rgba(0, 0, 0, 0.15);\n",
              "      filter: drop-shadow(0px 1px 2px rgba(0, 0, 0, 0.3));\n",
              "      fill: #FFFFFF;\n",
              "    }\n",
              "  </style>\n",
              "\n",
              "      <script>\n",
              "        const buttonEl =\n",
              "          document.querySelector('#df-62fc3228-c624-4ad8-9df9-f4d82b462f27 button.colab-df-convert');\n",
              "        buttonEl.style.display =\n",
              "          google.colab.kernel.accessAllowed ? 'block' : 'none';\n",
              "\n",
              "        async function convertToInteractive(key) {\n",
              "          const element = document.querySelector('#df-62fc3228-c624-4ad8-9df9-f4d82b462f27');\n",
              "          const dataTable =\n",
              "            await google.colab.kernel.invokeFunction('convertToInteractive',\n",
              "                                                     [key], {});\n",
              "          if (!dataTable) return;\n",
              "\n",
              "          const docLinkHtml = 'Like what you see? Visit the ' +\n",
              "            '<a target=\"_blank\" href=https://colab.research.google.com/notebooks/data_table.ipynb>data table notebook</a>'\n",
              "            + ' to learn more about interactive tables.';\n",
              "          element.innerHTML = '';\n",
              "          dataTable['output_type'] = 'display_data';\n",
              "          await google.colab.output.renderOutput(dataTable, element);\n",
              "          const docLink = document.createElement('div');\n",
              "          docLink.innerHTML = docLinkHtml;\n",
              "          element.appendChild(docLink);\n",
              "        }\n",
              "      </script>\n",
              "    </div>\n",
              "  </div>\n",
              "  "
            ]
          },
          "metadata": {},
          "execution_count": 14
        }
      ]
    },
    {
      "cell_type": "markdown",
      "source": [
        "###  Lemmatization"
      ],
      "metadata": {
        "id": "pC_xpvxI6ssf"
      }
    },
    {
      "cell_type": "code",
      "source": [
        "nltk.download('wordnet')"
      ],
      "metadata": {
        "colab": {
          "base_uri": "https://localhost:8080/"
        },
        "id": "RkPyj-QH6tU0",
        "outputId": "e3c68413-aa82-4a4b-8bb5-0e251ef5ed95"
      },
      "execution_count": 15,
      "outputs": [
        {
          "output_type": "stream",
          "name": "stderr",
          "text": [
            "[nltk_data] Downloading package wordnet to /root/nltk_data...\n",
            "[nltk_data]   Package wordnet is already up-to-date!\n"
          ]
        },
        {
          "output_type": "execute_result",
          "data": {
            "text/plain": [
              "True"
            ]
          },
          "metadata": {},
          "execution_count": 15
        }
      ]
    },
    {
      "cell_type": "code",
      "source": [
        "nltk.download('omw-1.4')"
      ],
      "metadata": {
        "colab": {
          "base_uri": "https://localhost:8080/"
        },
        "id": "yIcOUYdF68Nt",
        "outputId": "dc4be042-84ae-495d-c6c7-ad710ef0b0af"
      },
      "execution_count": 16,
      "outputs": [
        {
          "output_type": "stream",
          "name": "stderr",
          "text": [
            "[nltk_data] Downloading package omw-1.4 to /root/nltk_data...\n",
            "[nltk_data]   Package omw-1.4 is already up-to-date!\n"
          ]
        },
        {
          "output_type": "execute_result",
          "data": {
            "text/plain": [
              "True"
            ]
          },
          "metadata": {},
          "execution_count": 16
        }
      ]
    },
    {
      "cell_type": "code",
      "source": [
        "lemmatizer = WordNetLemmatizer()"
      ],
      "metadata": {
        "id": "dX6WRpQC6_a4"
      },
      "execution_count": 17,
      "outputs": []
    },
    {
      "cell_type": "code",
      "source": [
        "def lemmatize_words(words):\n",
        "  words = [lemmatizer.lemmatize(word,pos='a') for word in words]\n",
        "  return words"
      ],
      "metadata": {
        "id": "RqsXTicj7E2x"
      },
      "execution_count": 18,
      "outputs": []
    },
    {
      "cell_type": "code",
      "source": [
        "tweets_reduced['lemma_words'] = tweets_reduced['tokenized_text'].apply(lemmatize_words)"
      ],
      "metadata": {
        "id": "JsRgUF9D7GkZ"
      },
      "execution_count": 19,
      "outputs": []
    },
    {
      "cell_type": "code",
      "source": [
        "tweets_reduced.head(3)"
      ],
      "metadata": {
        "colab": {
          "base_uri": "https://localhost:8080/",
          "height": 364
        },
        "id": "HcI0F8_0-I4C",
        "outputId": "bc82edfd-4bf6-4164-81b7-719a916734d7"
      },
      "execution_count": 20,
      "outputs": [
        {
          "output_type": "execute_result",
          "data": {
            "text/plain": [
              "     index                  id  \\\n",
              "0  7883041  902578773345935361   \n",
              "1  6373391  895742603823652864   \n",
              "2   405902  867337628948979717   \n",
              "\n",
              "                                                text             user_id  \\\n",
              "0  Ray Gerald L &amp; Associates Ltd. Has $6.44 M...  888125801903775744   \n",
              "1  CommonWealth: Camping World Holdings, Inc. Ann...          2616445050   \n",
              "2  $GLYC terminates ATM (Expected as doing offering)           237591901   \n",
              "\n",
              "   in_reply_to_status_id  in_reply_to_user_id  retweeted_status_id  \\\n",
              "0                      0                    0                    0   \n",
              "1                      0                    0                    0   \n",
              "2                      0                    0                    0   \n",
              "\n",
              "   retweeted_user_id lang                                             source  \\\n",
              "0                  0   en  <a href=\"https://ifttt.com\" rel=\"nofollow\">IFT...   \n",
              "1                  0   en  <a href=\"http://www.conferencecalltranscripts....   \n",
              "2                  0   en  <a href=\"https://about.twitter.com/products/tw...   \n",
              "\n",
              "                       created_at  \\\n",
              "0  Tue Aug 29 17:08:43 +0000 2017   \n",
              "1  Thu Aug 10 20:24:13 +0000 2017   \n",
              "2  Wed May 24 11:12:59 +0000 2017   \n",
              "\n",
              "                                               tweet  \\\n",
              "0  ray gerald l amp associates ltd has  million p...   \n",
              "1  commonwealth camping world holdings inc announ...   \n",
              "2     glyc terminates atm expected as doing offering   \n",
              "\n",
              "                                      tokenized_text  \\\n",
              "0  [ray, gerald, l, amp, associates, ltd, has, mi...   \n",
              "1  [commonwealth, camping, world, holdings, inc, ...   \n",
              "2  [glyc, terminates, atm, expected, as, doing, o...   \n",
              "\n",
              "                                         lemma_words  \n",
              "0  [ray, gerald, l, amp, associates, ltd, has, mi...  \n",
              "1  [commonwealth, camping, world, holdings, inc, ...  \n",
              "2  [glyc, terminates, atm, expected, as, doing, o...  "
            ],
            "text/html": [
              "\n",
              "  <div id=\"df-6f304881-483b-4290-b096-1b7c70948d52\">\n",
              "    <div class=\"colab-df-container\">\n",
              "      <div>\n",
              "<style scoped>\n",
              "    .dataframe tbody tr th:only-of-type {\n",
              "        vertical-align: middle;\n",
              "    }\n",
              "\n",
              "    .dataframe tbody tr th {\n",
              "        vertical-align: top;\n",
              "    }\n",
              "\n",
              "    .dataframe thead th {\n",
              "        text-align: right;\n",
              "    }\n",
              "</style>\n",
              "<table border=\"1\" class=\"dataframe\">\n",
              "  <thead>\n",
              "    <tr style=\"text-align: right;\">\n",
              "      <th></th>\n",
              "      <th>index</th>\n",
              "      <th>id</th>\n",
              "      <th>text</th>\n",
              "      <th>user_id</th>\n",
              "      <th>in_reply_to_status_id</th>\n",
              "      <th>in_reply_to_user_id</th>\n",
              "      <th>retweeted_status_id</th>\n",
              "      <th>retweeted_user_id</th>\n",
              "      <th>lang</th>\n",
              "      <th>source</th>\n",
              "      <th>created_at</th>\n",
              "      <th>tweet</th>\n",
              "      <th>tokenized_text</th>\n",
              "      <th>lemma_words</th>\n",
              "    </tr>\n",
              "  </thead>\n",
              "  <tbody>\n",
              "    <tr>\n",
              "      <th>0</th>\n",
              "      <td>7883041</td>\n",
              "      <td>902578773345935361</td>\n",
              "      <td>Ray Gerald L &amp;amp; Associates Ltd. Has $6.44 M...</td>\n",
              "      <td>888125801903775744</td>\n",
              "      <td>0</td>\n",
              "      <td>0</td>\n",
              "      <td>0</td>\n",
              "      <td>0</td>\n",
              "      <td>en</td>\n",
              "      <td>&lt;a href=\"https://ifttt.com\" rel=\"nofollow\"&gt;IFT...</td>\n",
              "      <td>Tue Aug 29 17:08:43 +0000 2017</td>\n",
              "      <td>ray gerald l amp associates ltd has  million p...</td>\n",
              "      <td>[ray, gerald, l, amp, associates, ltd, has, mi...</td>\n",
              "      <td>[ray, gerald, l, amp, associates, ltd, has, mi...</td>\n",
              "    </tr>\n",
              "    <tr>\n",
              "      <th>1</th>\n",
              "      <td>6373391</td>\n",
              "      <td>895742603823652864</td>\n",
              "      <td>CommonWealth: Camping World Holdings, Inc. Ann...</td>\n",
              "      <td>2616445050</td>\n",
              "      <td>0</td>\n",
              "      <td>0</td>\n",
              "      <td>0</td>\n",
              "      <td>0</td>\n",
              "      <td>en</td>\n",
              "      <td>&lt;a href=\"http://www.conferencecalltranscripts....</td>\n",
              "      <td>Thu Aug 10 20:24:13 +0000 2017</td>\n",
              "      <td>commonwealth camping world holdings inc announ...</td>\n",
              "      <td>[commonwealth, camping, world, holdings, inc, ...</td>\n",
              "      <td>[commonwealth, camping, world, holdings, inc, ...</td>\n",
              "    </tr>\n",
              "    <tr>\n",
              "      <th>2</th>\n",
              "      <td>405902</td>\n",
              "      <td>867337628948979717</td>\n",
              "      <td>$GLYC terminates ATM (Expected as doing offering)</td>\n",
              "      <td>237591901</td>\n",
              "      <td>0</td>\n",
              "      <td>0</td>\n",
              "      <td>0</td>\n",
              "      <td>0</td>\n",
              "      <td>en</td>\n",
              "      <td>&lt;a href=\"https://about.twitter.com/products/tw...</td>\n",
              "      <td>Wed May 24 11:12:59 +0000 2017</td>\n",
              "      <td>glyc terminates atm expected as doing offering</td>\n",
              "      <td>[glyc, terminates, atm, expected, as, doing, o...</td>\n",
              "      <td>[glyc, terminates, atm, expected, as, doing, o...</td>\n",
              "    </tr>\n",
              "  </tbody>\n",
              "</table>\n",
              "</div>\n",
              "      <button class=\"colab-df-convert\" onclick=\"convertToInteractive('df-6f304881-483b-4290-b096-1b7c70948d52')\"\n",
              "              title=\"Convert this dataframe to an interactive table.\"\n",
              "              style=\"display:none;\">\n",
              "        \n",
              "  <svg xmlns=\"http://www.w3.org/2000/svg\" height=\"24px\"viewBox=\"0 0 24 24\"\n",
              "       width=\"24px\">\n",
              "    <path d=\"M0 0h24v24H0V0z\" fill=\"none\"/>\n",
              "    <path d=\"M18.56 5.44l.94 2.06.94-2.06 2.06-.94-2.06-.94-.94-2.06-.94 2.06-2.06.94zm-11 1L8.5 8.5l.94-2.06 2.06-.94-2.06-.94L8.5 2.5l-.94 2.06-2.06.94zm10 10l.94 2.06.94-2.06 2.06-.94-2.06-.94-.94-2.06-.94 2.06-2.06.94z\"/><path d=\"M17.41 7.96l-1.37-1.37c-.4-.4-.92-.59-1.43-.59-.52 0-1.04.2-1.43.59L10.3 9.45l-7.72 7.72c-.78.78-.78 2.05 0 2.83L4 21.41c.39.39.9.59 1.41.59.51 0 1.02-.2 1.41-.59l7.78-7.78 2.81-2.81c.8-.78.8-2.07 0-2.86zM5.41 20L4 18.59l7.72-7.72 1.47 1.35L5.41 20z\"/>\n",
              "  </svg>\n",
              "      </button>\n",
              "      \n",
              "  <style>\n",
              "    .colab-df-container {\n",
              "      display:flex;\n",
              "      flex-wrap:wrap;\n",
              "      gap: 12px;\n",
              "    }\n",
              "\n",
              "    .colab-df-convert {\n",
              "      background-color: #E8F0FE;\n",
              "      border: none;\n",
              "      border-radius: 50%;\n",
              "      cursor: pointer;\n",
              "      display: none;\n",
              "      fill: #1967D2;\n",
              "      height: 32px;\n",
              "      padding: 0 0 0 0;\n",
              "      width: 32px;\n",
              "    }\n",
              "\n",
              "    .colab-df-convert:hover {\n",
              "      background-color: #E2EBFA;\n",
              "      box-shadow: 0px 1px 2px rgba(60, 64, 67, 0.3), 0px 1px 3px 1px rgba(60, 64, 67, 0.15);\n",
              "      fill: #174EA6;\n",
              "    }\n",
              "\n",
              "    [theme=dark] .colab-df-convert {\n",
              "      background-color: #3B4455;\n",
              "      fill: #D2E3FC;\n",
              "    }\n",
              "\n",
              "    [theme=dark] .colab-df-convert:hover {\n",
              "      background-color: #434B5C;\n",
              "      box-shadow: 0px 1px 3px 1px rgba(0, 0, 0, 0.15);\n",
              "      filter: drop-shadow(0px 1px 2px rgba(0, 0, 0, 0.3));\n",
              "      fill: #FFFFFF;\n",
              "    }\n",
              "  </style>\n",
              "\n",
              "      <script>\n",
              "        const buttonEl =\n",
              "          document.querySelector('#df-6f304881-483b-4290-b096-1b7c70948d52 button.colab-df-convert');\n",
              "        buttonEl.style.display =\n",
              "          google.colab.kernel.accessAllowed ? 'block' : 'none';\n",
              "\n",
              "        async function convertToInteractive(key) {\n",
              "          const element = document.querySelector('#df-6f304881-483b-4290-b096-1b7c70948d52');\n",
              "          const dataTable =\n",
              "            await google.colab.kernel.invokeFunction('convertToInteractive',\n",
              "                                                     [key], {});\n",
              "          if (!dataTable) return;\n",
              "\n",
              "          const docLinkHtml = 'Like what you see? Visit the ' +\n",
              "            '<a target=\"_blank\" href=https://colab.research.google.com/notebooks/data_table.ipynb>data table notebook</a>'\n",
              "            + ' to learn more about interactive tables.';\n",
              "          element.innerHTML = '';\n",
              "          dataTable['output_type'] = 'display_data';\n",
              "          await google.colab.output.renderOutput(dataTable, element);\n",
              "          const docLink = document.createElement('div');\n",
              "          docLink.innerHTML = docLinkHtml;\n",
              "          element.appendChild(docLink);\n",
              "        }\n",
              "      </script>\n",
              "    </div>\n",
              "  </div>\n",
              "  "
            ]
          },
          "metadata": {},
          "execution_count": 20
        }
      ]
    },
    {
      "cell_type": "code",
      "source": [
        "cleaned_tweets = []\n",
        "for lemma_words in list(tweets_reduced['lemma_words']):\n",
        "  cleaned_tweets.append(' '.join(lemma_words))\n",
        "tweets_reduced['cleaned_tweets'] = cleaned_tweets"
      ],
      "metadata": {
        "id": "_IeOFEFi_p-e"
      },
      "execution_count": 21,
      "outputs": []
    },
    {
      "cell_type": "code",
      "source": [
        "tweets_reduced.head(3)"
      ],
      "metadata": {
        "colab": {
          "base_uri": "https://localhost:8080/",
          "height": 364
        },
        "id": "TqKGvRdZ_4U8",
        "outputId": "8d76b4b6-2b43-42dd-e661-fd3eb1ec168d"
      },
      "execution_count": 22,
      "outputs": [
        {
          "output_type": "execute_result",
          "data": {
            "text/plain": [
              "     index                  id  \\\n",
              "0  7883041  902578773345935361   \n",
              "1  6373391  895742603823652864   \n",
              "2   405902  867337628948979717   \n",
              "\n",
              "                                                text             user_id  \\\n",
              "0  Ray Gerald L &amp; Associates Ltd. Has $6.44 M...  888125801903775744   \n",
              "1  CommonWealth: Camping World Holdings, Inc. Ann...          2616445050   \n",
              "2  $GLYC terminates ATM (Expected as doing offering)           237591901   \n",
              "\n",
              "   in_reply_to_status_id  in_reply_to_user_id  retweeted_status_id  \\\n",
              "0                      0                    0                    0   \n",
              "1                      0                    0                    0   \n",
              "2                      0                    0                    0   \n",
              "\n",
              "   retweeted_user_id lang                                             source  \\\n",
              "0                  0   en  <a href=\"https://ifttt.com\" rel=\"nofollow\">IFT...   \n",
              "1                  0   en  <a href=\"http://www.conferencecalltranscripts....   \n",
              "2                  0   en  <a href=\"https://about.twitter.com/products/tw...   \n",
              "\n",
              "                       created_at  \\\n",
              "0  Tue Aug 29 17:08:43 +0000 2017   \n",
              "1  Thu Aug 10 20:24:13 +0000 2017   \n",
              "2  Wed May 24 11:12:59 +0000 2017   \n",
              "\n",
              "                                               tweet  \\\n",
              "0  ray gerald l amp associates ltd has  million p...   \n",
              "1  commonwealth camping world holdings inc announ...   \n",
              "2     glyc terminates atm expected as doing offering   \n",
              "\n",
              "                                      tokenized_text  \\\n",
              "0  [ray, gerald, l, amp, associates, ltd, has, mi...   \n",
              "1  [commonwealth, camping, world, holdings, inc, ...   \n",
              "2  [glyc, terminates, atm, expected, as, doing, o...   \n",
              "\n",
              "                                         lemma_words  \\\n",
              "0  [ray, gerald, l, amp, associates, ltd, has, mi...   \n",
              "1  [commonwealth, camping, world, holdings, inc, ...   \n",
              "2  [glyc, terminates, atm, expected, as, doing, o...   \n",
              "\n",
              "                                      cleaned_tweets  \n",
              "0  ray gerald l amp associates ltd has million po...  \n",
              "1  commonwealth camping world holdings inc announ...  \n",
              "2     glyc terminates atm expected as doing offering  "
            ],
            "text/html": [
              "\n",
              "  <div id=\"df-54f83ab9-6d48-4537-961f-624aea7ba4f1\">\n",
              "    <div class=\"colab-df-container\">\n",
              "      <div>\n",
              "<style scoped>\n",
              "    .dataframe tbody tr th:only-of-type {\n",
              "        vertical-align: middle;\n",
              "    }\n",
              "\n",
              "    .dataframe tbody tr th {\n",
              "        vertical-align: top;\n",
              "    }\n",
              "\n",
              "    .dataframe thead th {\n",
              "        text-align: right;\n",
              "    }\n",
              "</style>\n",
              "<table border=\"1\" class=\"dataframe\">\n",
              "  <thead>\n",
              "    <tr style=\"text-align: right;\">\n",
              "      <th></th>\n",
              "      <th>index</th>\n",
              "      <th>id</th>\n",
              "      <th>text</th>\n",
              "      <th>user_id</th>\n",
              "      <th>in_reply_to_status_id</th>\n",
              "      <th>in_reply_to_user_id</th>\n",
              "      <th>retweeted_status_id</th>\n",
              "      <th>retweeted_user_id</th>\n",
              "      <th>lang</th>\n",
              "      <th>source</th>\n",
              "      <th>created_at</th>\n",
              "      <th>tweet</th>\n",
              "      <th>tokenized_text</th>\n",
              "      <th>lemma_words</th>\n",
              "      <th>cleaned_tweets</th>\n",
              "    </tr>\n",
              "  </thead>\n",
              "  <tbody>\n",
              "    <tr>\n",
              "      <th>0</th>\n",
              "      <td>7883041</td>\n",
              "      <td>902578773345935361</td>\n",
              "      <td>Ray Gerald L &amp;amp; Associates Ltd. Has $6.44 M...</td>\n",
              "      <td>888125801903775744</td>\n",
              "      <td>0</td>\n",
              "      <td>0</td>\n",
              "      <td>0</td>\n",
              "      <td>0</td>\n",
              "      <td>en</td>\n",
              "      <td>&lt;a href=\"https://ifttt.com\" rel=\"nofollow\"&gt;IFT...</td>\n",
              "      <td>Tue Aug 29 17:08:43 +0000 2017</td>\n",
              "      <td>ray gerald l amp associates ltd has  million p...</td>\n",
              "      <td>[ray, gerald, l, amp, associates, ltd, has, mi...</td>\n",
              "      <td>[ray, gerald, l, amp, associates, ltd, has, mi...</td>\n",
              "      <td>ray gerald l amp associates ltd has million po...</td>\n",
              "    </tr>\n",
              "    <tr>\n",
              "      <th>1</th>\n",
              "      <td>6373391</td>\n",
              "      <td>895742603823652864</td>\n",
              "      <td>CommonWealth: Camping World Holdings, Inc. Ann...</td>\n",
              "      <td>2616445050</td>\n",
              "      <td>0</td>\n",
              "      <td>0</td>\n",
              "      <td>0</td>\n",
              "      <td>0</td>\n",
              "      <td>en</td>\n",
              "      <td>&lt;a href=\"http://www.conferencecalltranscripts....</td>\n",
              "      <td>Thu Aug 10 20:24:13 +0000 2017</td>\n",
              "      <td>commonwealth camping world holdings inc announ...</td>\n",
              "      <td>[commonwealth, camping, world, holdings, inc, ...</td>\n",
              "      <td>[commonwealth, camping, world, holdings, inc, ...</td>\n",
              "      <td>commonwealth camping world holdings inc announ...</td>\n",
              "    </tr>\n",
              "    <tr>\n",
              "      <th>2</th>\n",
              "      <td>405902</td>\n",
              "      <td>867337628948979717</td>\n",
              "      <td>$GLYC terminates ATM (Expected as doing offering)</td>\n",
              "      <td>237591901</td>\n",
              "      <td>0</td>\n",
              "      <td>0</td>\n",
              "      <td>0</td>\n",
              "      <td>0</td>\n",
              "      <td>en</td>\n",
              "      <td>&lt;a href=\"https://about.twitter.com/products/tw...</td>\n",
              "      <td>Wed May 24 11:12:59 +0000 2017</td>\n",
              "      <td>glyc terminates atm expected as doing offering</td>\n",
              "      <td>[glyc, terminates, atm, expected, as, doing, o...</td>\n",
              "      <td>[glyc, terminates, atm, expected, as, doing, o...</td>\n",
              "      <td>glyc terminates atm expected as doing offering</td>\n",
              "    </tr>\n",
              "  </tbody>\n",
              "</table>\n",
              "</div>\n",
              "      <button class=\"colab-df-convert\" onclick=\"convertToInteractive('df-54f83ab9-6d48-4537-961f-624aea7ba4f1')\"\n",
              "              title=\"Convert this dataframe to an interactive table.\"\n",
              "              style=\"display:none;\">\n",
              "        \n",
              "  <svg xmlns=\"http://www.w3.org/2000/svg\" height=\"24px\"viewBox=\"0 0 24 24\"\n",
              "       width=\"24px\">\n",
              "    <path d=\"M0 0h24v24H0V0z\" fill=\"none\"/>\n",
              "    <path d=\"M18.56 5.44l.94 2.06.94-2.06 2.06-.94-2.06-.94-.94-2.06-.94 2.06-2.06.94zm-11 1L8.5 8.5l.94-2.06 2.06-.94-2.06-.94L8.5 2.5l-.94 2.06-2.06.94zm10 10l.94 2.06.94-2.06 2.06-.94-2.06-.94-.94-2.06-.94 2.06-2.06.94z\"/><path d=\"M17.41 7.96l-1.37-1.37c-.4-.4-.92-.59-1.43-.59-.52 0-1.04.2-1.43.59L10.3 9.45l-7.72 7.72c-.78.78-.78 2.05 0 2.83L4 21.41c.39.39.9.59 1.41.59.51 0 1.02-.2 1.41-.59l7.78-7.78 2.81-2.81c.8-.78.8-2.07 0-2.86zM5.41 20L4 18.59l7.72-7.72 1.47 1.35L5.41 20z\"/>\n",
              "  </svg>\n",
              "      </button>\n",
              "      \n",
              "  <style>\n",
              "    .colab-df-container {\n",
              "      display:flex;\n",
              "      flex-wrap:wrap;\n",
              "      gap: 12px;\n",
              "    }\n",
              "\n",
              "    .colab-df-convert {\n",
              "      background-color: #E8F0FE;\n",
              "      border: none;\n",
              "      border-radius: 50%;\n",
              "      cursor: pointer;\n",
              "      display: none;\n",
              "      fill: #1967D2;\n",
              "      height: 32px;\n",
              "      padding: 0 0 0 0;\n",
              "      width: 32px;\n",
              "    }\n",
              "\n",
              "    .colab-df-convert:hover {\n",
              "      background-color: #E2EBFA;\n",
              "      box-shadow: 0px 1px 2px rgba(60, 64, 67, 0.3), 0px 1px 3px 1px rgba(60, 64, 67, 0.15);\n",
              "      fill: #174EA6;\n",
              "    }\n",
              "\n",
              "    [theme=dark] .colab-df-convert {\n",
              "      background-color: #3B4455;\n",
              "      fill: #D2E3FC;\n",
              "    }\n",
              "\n",
              "    [theme=dark] .colab-df-convert:hover {\n",
              "      background-color: #434B5C;\n",
              "      box-shadow: 0px 1px 3px 1px rgba(0, 0, 0, 0.15);\n",
              "      filter: drop-shadow(0px 1px 2px rgba(0, 0, 0, 0.3));\n",
              "      fill: #FFFFFF;\n",
              "    }\n",
              "  </style>\n",
              "\n",
              "      <script>\n",
              "        const buttonEl =\n",
              "          document.querySelector('#df-54f83ab9-6d48-4537-961f-624aea7ba4f1 button.colab-df-convert');\n",
              "        buttonEl.style.display =\n",
              "          google.colab.kernel.accessAllowed ? 'block' : 'none';\n",
              "\n",
              "        async function convertToInteractive(key) {\n",
              "          const element = document.querySelector('#df-54f83ab9-6d48-4537-961f-624aea7ba4f1');\n",
              "          const dataTable =\n",
              "            await google.colab.kernel.invokeFunction('convertToInteractive',\n",
              "                                                     [key], {});\n",
              "          if (!dataTable) return;\n",
              "\n",
              "          const docLinkHtml = 'Like what you see? Visit the ' +\n",
              "            '<a target=\"_blank\" href=https://colab.research.google.com/notebooks/data_table.ipynb>data table notebook</a>'\n",
              "            + ' to learn more about interactive tables.';\n",
              "          element.innerHTML = '';\n",
              "          dataTable['output_type'] = 'display_data';\n",
              "          await google.colab.output.renderOutput(dataTable, element);\n",
              "          const docLink = document.createElement('div');\n",
              "          docLink.innerHTML = docLinkHtml;\n",
              "          element.appendChild(docLink);\n",
              "        }\n",
              "      </script>\n",
              "    </div>\n",
              "  </div>\n",
              "  "
            ]
          },
          "metadata": {},
          "execution_count": 22
        }
      ]
    },
    {
      "cell_type": "markdown",
      "source": [
        "### Feature Extraction:"
      ],
      "metadata": {
        "id": "xARjEO2nAUf0"
      }
    },
    {
      "cell_type": "markdown",
      "source": [
        "BoW:"
      ],
      "metadata": {
        "id": "HG3IVlfrp2vn"
      }
    },
    {
      "cell_type": "code",
      "source": [
        "BoW_FeatureExtractor = CountVectorizer(max_df=0.90, min_df=2, max_features=1500, stop_words='english')"
      ],
      "metadata": {
        "id": "Tjx4oCltAjT7"
      },
      "execution_count": 23,
      "outputs": []
    },
    {
      "cell_type": "code",
      "source": [
        "BoW_Features = BoW_FeatureExtractor.fit_transform(tweets_reduced['cleaned_tweets'])"
      ],
      "metadata": {
        "id": "pNVkD4RgA2pI"
      },
      "execution_count": 24,
      "outputs": []
    },
    {
      "cell_type": "code",
      "source": [
        "print(\"Shape of the BoW features: \", np.shape(BoW_Features))"
      ],
      "metadata": {
        "colab": {
          "base_uri": "https://localhost:8080/"
        },
        "id": "9LZYf4ZyA68q",
        "outputId": "9bb56d2f-9c6a-4e9f-bc75-d0b0d7354d07"
      },
      "execution_count": 25,
      "outputs": [
        {
          "output_type": "stream",
          "name": "stdout",
          "text": [
            "Shape of the BoW features:  (11364, 1500)\n"
          ]
        }
      ]
    },
    {
      "cell_type": "markdown",
      "source": [
        "TF-IDF:"
      ],
      "metadata": {
        "id": "XWG6LWCwB_5m"
      }
    },
    {
      "cell_type": "code",
      "source": [
        "TFIDF_FeatureExtractor = TfidfVectorizer(max_df=0.90, min_df=2, max_features=1500, stop_words='english')"
      ],
      "metadata": {
        "id": "ceT4wDaFBCVk"
      },
      "execution_count": 26,
      "outputs": []
    },
    {
      "cell_type": "code",
      "source": [
        "TFIDF_Features = TFIDF_FeatureExtractor.fit_transform(tweets_reduced['cleaned_tweets'])"
      ],
      "metadata": {
        "id": "u2oAQ-cnCECa"
      },
      "execution_count": 27,
      "outputs": []
    },
    {
      "cell_type": "code",
      "source": [
        "print(\"Shaoe of the TF-IDF features: \", np.shape(TFIDF_Features))"
      ],
      "metadata": {
        "colab": {
          "base_uri": "https://localhost:8080/"
        },
        "id": "dNoTGFmiCH63",
        "outputId": "a7f9466d-1569-4966-f6a1-ce3ddced7ca5"
      },
      "execution_count": 28,
      "outputs": [
        {
          "output_type": "stream",
          "name": "stdout",
          "text": [
            "Shaoe of the TF-IDF features:  (11364, 1500)\n"
          ]
        }
      ]
    },
    {
      "cell_type": "markdown",
      "source": [
        "### Classification:"
      ],
      "metadata": {
        "id": "tl1FLmTiCRVc"
      }
    },
    {
      "cell_type": "markdown",
      "source": [
        "In this part, I load the two classifiers which were trained in the previous phase of the project, and predict the sentiment labels of tweets of the current dataset using them."
      ],
      "metadata": {
        "id": "GkUNhlWWZ-bV"
      }
    },
    {
      "cell_type": "code",
      "source": [
        "ModelPath1 = 'gdrive/MyDrive/DataScience/Project/classifier_model_bow.sav'\n",
        "ModelPath2 = 'gdrive/MyDrive/DataScience/Project/classifier_model_tfidf.sav'"
      ],
      "metadata": {
        "id": "FWK8vXa1DLPH"
      },
      "execution_count": 29,
      "outputs": []
    },
    {
      "cell_type": "code",
      "source": [
        "classifier_model_bow = pickle.load(open(ModelPath1, 'rb'))\n",
        "classifier_model_tfidf = pickle.load(open(ModelPath2, 'rb'))"
      ],
      "metadata": {
        "id": "VgtSK4dUDO2I"
      },
      "execution_count": 30,
      "outputs": []
    },
    {
      "cell_type": "markdown",
      "source": [
        "classification with the first model which uses BoW features:"
      ],
      "metadata": {
        "id": "3w9ScWcjClHE"
      }
    },
    {
      "cell_type": "code",
      "source": [
        "sentiment_labels_BoW = classifier_model_bow.predict(BoW_Features)"
      ],
      "metadata": {
        "id": "0asVbiz9CT5w"
      },
      "execution_count": 31,
      "outputs": []
    },
    {
      "cell_type": "code",
      "source": [
        "tweets_reduced['sentiment_label_BoW'] = sentiment_labels_BoW"
      ],
      "metadata": {
        "id": "WFBiqFDDj4sm"
      },
      "execution_count": 32,
      "outputs": []
    },
    {
      "cell_type": "markdown",
      "source": [
        "classification with the second model which uses TF-IDF features:"
      ],
      "metadata": {
        "id": "01yHJD1aEEdF"
      }
    },
    {
      "cell_type": "code",
      "source": [
        "sentiment_labels_TFIDF = classifier_model_bow.predict(TFIDF_Features)"
      ],
      "metadata": {
        "id": "nwkIW6cSEKZd"
      },
      "execution_count": 33,
      "outputs": []
    },
    {
      "cell_type": "markdown",
      "source": [
        "Adding the predicted sentiment labels to the dataframe:"
      ],
      "metadata": {
        "id": "gned3j0oai-H"
      }
    },
    {
      "cell_type": "code",
      "source": [
        "tweets_reduced['sentiment_label_TFIDF'] = sentiment_labels_TFIDF"
      ],
      "metadata": {
        "id": "_qLXlsrHj6vV"
      },
      "execution_count": 34,
      "outputs": []
    },
    {
      "cell_type": "code",
      "source": [
        "tweets_reduced.head(3)"
      ],
      "metadata": {
        "colab": {
          "base_uri": "https://localhost:8080/",
          "height": 364
        },
        "id": "gfWKmolZmAKk",
        "outputId": "72932767-80b3-4267-cf37-5424593c8538"
      },
      "execution_count": 35,
      "outputs": [
        {
          "output_type": "execute_result",
          "data": {
            "text/plain": [
              "     index                  id  \\\n",
              "0  7883041  902578773345935361   \n",
              "1  6373391  895742603823652864   \n",
              "2   405902  867337628948979717   \n",
              "\n",
              "                                                text             user_id  \\\n",
              "0  Ray Gerald L &amp; Associates Ltd. Has $6.44 M...  888125801903775744   \n",
              "1  CommonWealth: Camping World Holdings, Inc. Ann...          2616445050   \n",
              "2  $GLYC terminates ATM (Expected as doing offering)           237591901   \n",
              "\n",
              "   in_reply_to_status_id  in_reply_to_user_id  retweeted_status_id  \\\n",
              "0                      0                    0                    0   \n",
              "1                      0                    0                    0   \n",
              "2                      0                    0                    0   \n",
              "\n",
              "   retweeted_user_id lang                                             source  \\\n",
              "0                  0   en  <a href=\"https://ifttt.com\" rel=\"nofollow\">IFT...   \n",
              "1                  0   en  <a href=\"http://www.conferencecalltranscripts....   \n",
              "2                  0   en  <a href=\"https://about.twitter.com/products/tw...   \n",
              "\n",
              "                       created_at  \\\n",
              "0  Tue Aug 29 17:08:43 +0000 2017   \n",
              "1  Thu Aug 10 20:24:13 +0000 2017   \n",
              "2  Wed May 24 11:12:59 +0000 2017   \n",
              "\n",
              "                                               tweet  \\\n",
              "0  ray gerald l amp associates ltd has  million p...   \n",
              "1  commonwealth camping world holdings inc announ...   \n",
              "2     glyc terminates atm expected as doing offering   \n",
              "\n",
              "                                      tokenized_text  \\\n",
              "0  [ray, gerald, l, amp, associates, ltd, has, mi...   \n",
              "1  [commonwealth, camping, world, holdings, inc, ...   \n",
              "2  [glyc, terminates, atm, expected, as, doing, o...   \n",
              "\n",
              "                                         lemma_words  \\\n",
              "0  [ray, gerald, l, amp, associates, ltd, has, mi...   \n",
              "1  [commonwealth, camping, world, holdings, inc, ...   \n",
              "2  [glyc, terminates, atm, expected, as, doing, o...   \n",
              "\n",
              "                                      cleaned_tweets  sentiment_label_BoW  \\\n",
              "0  ray gerald l amp associates ltd has million po...                    0   \n",
              "1  commonwealth camping world holdings inc announ...                    0   \n",
              "2     glyc terminates atm expected as doing offering                    0   \n",
              "\n",
              "   sentiment_label_TFIDF  \n",
              "0                      0  \n",
              "1                      4  \n",
              "2                      0  "
            ],
            "text/html": [
              "\n",
              "  <div id=\"df-49d16383-13a6-43df-8ced-f22b70d0e380\">\n",
              "    <div class=\"colab-df-container\">\n",
              "      <div>\n",
              "<style scoped>\n",
              "    .dataframe tbody tr th:only-of-type {\n",
              "        vertical-align: middle;\n",
              "    }\n",
              "\n",
              "    .dataframe tbody tr th {\n",
              "        vertical-align: top;\n",
              "    }\n",
              "\n",
              "    .dataframe thead th {\n",
              "        text-align: right;\n",
              "    }\n",
              "</style>\n",
              "<table border=\"1\" class=\"dataframe\">\n",
              "  <thead>\n",
              "    <tr style=\"text-align: right;\">\n",
              "      <th></th>\n",
              "      <th>index</th>\n",
              "      <th>id</th>\n",
              "      <th>text</th>\n",
              "      <th>user_id</th>\n",
              "      <th>in_reply_to_status_id</th>\n",
              "      <th>in_reply_to_user_id</th>\n",
              "      <th>retweeted_status_id</th>\n",
              "      <th>retweeted_user_id</th>\n",
              "      <th>lang</th>\n",
              "      <th>source</th>\n",
              "      <th>created_at</th>\n",
              "      <th>tweet</th>\n",
              "      <th>tokenized_text</th>\n",
              "      <th>lemma_words</th>\n",
              "      <th>cleaned_tweets</th>\n",
              "      <th>sentiment_label_BoW</th>\n",
              "      <th>sentiment_label_TFIDF</th>\n",
              "    </tr>\n",
              "  </thead>\n",
              "  <tbody>\n",
              "    <tr>\n",
              "      <th>0</th>\n",
              "      <td>7883041</td>\n",
              "      <td>902578773345935361</td>\n",
              "      <td>Ray Gerald L &amp;amp; Associates Ltd. Has $6.44 M...</td>\n",
              "      <td>888125801903775744</td>\n",
              "      <td>0</td>\n",
              "      <td>0</td>\n",
              "      <td>0</td>\n",
              "      <td>0</td>\n",
              "      <td>en</td>\n",
              "      <td>&lt;a href=\"https://ifttt.com\" rel=\"nofollow\"&gt;IFT...</td>\n",
              "      <td>Tue Aug 29 17:08:43 +0000 2017</td>\n",
              "      <td>ray gerald l amp associates ltd has  million p...</td>\n",
              "      <td>[ray, gerald, l, amp, associates, ltd, has, mi...</td>\n",
              "      <td>[ray, gerald, l, amp, associates, ltd, has, mi...</td>\n",
              "      <td>ray gerald l amp associates ltd has million po...</td>\n",
              "      <td>0</td>\n",
              "      <td>0</td>\n",
              "    </tr>\n",
              "    <tr>\n",
              "      <th>1</th>\n",
              "      <td>6373391</td>\n",
              "      <td>895742603823652864</td>\n",
              "      <td>CommonWealth: Camping World Holdings, Inc. Ann...</td>\n",
              "      <td>2616445050</td>\n",
              "      <td>0</td>\n",
              "      <td>0</td>\n",
              "      <td>0</td>\n",
              "      <td>0</td>\n",
              "      <td>en</td>\n",
              "      <td>&lt;a href=\"http://www.conferencecalltranscripts....</td>\n",
              "      <td>Thu Aug 10 20:24:13 +0000 2017</td>\n",
              "      <td>commonwealth camping world holdings inc announ...</td>\n",
              "      <td>[commonwealth, camping, world, holdings, inc, ...</td>\n",
              "      <td>[commonwealth, camping, world, holdings, inc, ...</td>\n",
              "      <td>commonwealth camping world holdings inc announ...</td>\n",
              "      <td>0</td>\n",
              "      <td>4</td>\n",
              "    </tr>\n",
              "    <tr>\n",
              "      <th>2</th>\n",
              "      <td>405902</td>\n",
              "      <td>867337628948979717</td>\n",
              "      <td>$GLYC terminates ATM (Expected as doing offering)</td>\n",
              "      <td>237591901</td>\n",
              "      <td>0</td>\n",
              "      <td>0</td>\n",
              "      <td>0</td>\n",
              "      <td>0</td>\n",
              "      <td>en</td>\n",
              "      <td>&lt;a href=\"https://about.twitter.com/products/tw...</td>\n",
              "      <td>Wed May 24 11:12:59 +0000 2017</td>\n",
              "      <td>glyc terminates atm expected as doing offering</td>\n",
              "      <td>[glyc, terminates, atm, expected, as, doing, o...</td>\n",
              "      <td>[glyc, terminates, atm, expected, as, doing, o...</td>\n",
              "      <td>glyc terminates atm expected as doing offering</td>\n",
              "      <td>0</td>\n",
              "      <td>0</td>\n",
              "    </tr>\n",
              "  </tbody>\n",
              "</table>\n",
              "</div>\n",
              "      <button class=\"colab-df-convert\" onclick=\"convertToInteractive('df-49d16383-13a6-43df-8ced-f22b70d0e380')\"\n",
              "              title=\"Convert this dataframe to an interactive table.\"\n",
              "              style=\"display:none;\">\n",
              "        \n",
              "  <svg xmlns=\"http://www.w3.org/2000/svg\" height=\"24px\"viewBox=\"0 0 24 24\"\n",
              "       width=\"24px\">\n",
              "    <path d=\"M0 0h24v24H0V0z\" fill=\"none\"/>\n",
              "    <path d=\"M18.56 5.44l.94 2.06.94-2.06 2.06-.94-2.06-.94-.94-2.06-.94 2.06-2.06.94zm-11 1L8.5 8.5l.94-2.06 2.06-.94-2.06-.94L8.5 2.5l-.94 2.06-2.06.94zm10 10l.94 2.06.94-2.06 2.06-.94-2.06-.94-.94-2.06-.94 2.06-2.06.94z\"/><path d=\"M17.41 7.96l-1.37-1.37c-.4-.4-.92-.59-1.43-.59-.52 0-1.04.2-1.43.59L10.3 9.45l-7.72 7.72c-.78.78-.78 2.05 0 2.83L4 21.41c.39.39.9.59 1.41.59.51 0 1.02-.2 1.41-.59l7.78-7.78 2.81-2.81c.8-.78.8-2.07 0-2.86zM5.41 20L4 18.59l7.72-7.72 1.47 1.35L5.41 20z\"/>\n",
              "  </svg>\n",
              "      </button>\n",
              "      \n",
              "  <style>\n",
              "    .colab-df-container {\n",
              "      display:flex;\n",
              "      flex-wrap:wrap;\n",
              "      gap: 12px;\n",
              "    }\n",
              "\n",
              "    .colab-df-convert {\n",
              "      background-color: #E8F0FE;\n",
              "      border: none;\n",
              "      border-radius: 50%;\n",
              "      cursor: pointer;\n",
              "      display: none;\n",
              "      fill: #1967D2;\n",
              "      height: 32px;\n",
              "      padding: 0 0 0 0;\n",
              "      width: 32px;\n",
              "    }\n",
              "\n",
              "    .colab-df-convert:hover {\n",
              "      background-color: #E2EBFA;\n",
              "      box-shadow: 0px 1px 2px rgba(60, 64, 67, 0.3), 0px 1px 3px 1px rgba(60, 64, 67, 0.15);\n",
              "      fill: #174EA6;\n",
              "    }\n",
              "\n",
              "    [theme=dark] .colab-df-convert {\n",
              "      background-color: #3B4455;\n",
              "      fill: #D2E3FC;\n",
              "    }\n",
              "\n",
              "    [theme=dark] .colab-df-convert:hover {\n",
              "      background-color: #434B5C;\n",
              "      box-shadow: 0px 1px 3px 1px rgba(0, 0, 0, 0.15);\n",
              "      filter: drop-shadow(0px 1px 2px rgba(0, 0, 0, 0.3));\n",
              "      fill: #FFFFFF;\n",
              "    }\n",
              "  </style>\n",
              "\n",
              "      <script>\n",
              "        const buttonEl =\n",
              "          document.querySelector('#df-49d16383-13a6-43df-8ced-f22b70d0e380 button.colab-df-convert');\n",
              "        buttonEl.style.display =\n",
              "          google.colab.kernel.accessAllowed ? 'block' : 'none';\n",
              "\n",
              "        async function convertToInteractive(key) {\n",
              "          const element = document.querySelector('#df-49d16383-13a6-43df-8ced-f22b70d0e380');\n",
              "          const dataTable =\n",
              "            await google.colab.kernel.invokeFunction('convertToInteractive',\n",
              "                                                     [key], {});\n",
              "          if (!dataTable) return;\n",
              "\n",
              "          const docLinkHtml = 'Like what you see? Visit the ' +\n",
              "            '<a target=\"_blank\" href=https://colab.research.google.com/notebooks/data_table.ipynb>data table notebook</a>'\n",
              "            + ' to learn more about interactive tables.';\n",
              "          element.innerHTML = '';\n",
              "          dataTable['output_type'] = 'display_data';\n",
              "          await google.colab.output.renderOutput(dataTable, element);\n",
              "          const docLink = document.createElement('div');\n",
              "          docLink.innerHTML = docLinkHtml;\n",
              "          element.appendChild(docLink);\n",
              "        }\n",
              "      </script>\n",
              "    </div>\n",
              "  </div>\n",
              "  "
            ]
          },
          "metadata": {},
          "execution_count": 35
        }
      ]
    },
    {
      "cell_type": "markdown",
      "source": [
        "I save this dataframe for furthur use:"
      ],
      "metadata": {
        "id": "Ji6uctT9nkYT"
      }
    },
    {
      "cell_type": "code",
      "source": [
        "try:\n",
        "    file_n = open('gdrive/MyDrive/DataScience/Project/tweets_reduced_Phase_3.csv', 'wb')\n",
        "    pickle.dump(tweets_reduced, file_n)\n",
        "    file_n.close()\n",
        "except:\n",
        "    print(\"Something went wrong in saving the doctionary\")"
      ],
      "metadata": {
        "id": "CGQNOLQUnkB6"
      },
      "execution_count": 36,
      "outputs": []
    },
    {
      "cell_type": "markdown",
      "source": [
        "# Part 2: Correlation between capitalization of stocks and the sentiments of tweets including them"
      ],
      "metadata": {
        "id": "BQpzAEVcjj_8"
      }
    },
    {
      "cell_type": "markdown",
      "source": [
        "In this part I do the analaysis for the top mentioned stocks obtained in the first phase of the project, which were:\n",
        "\n",
        "'RH',  'Jefferies Group LLC',  'Morgan Stanley',  'Piper Jaffray Compan',  'Travelzoo',  'Bank of America Corp',  'Citigroup Inc', 'Oppenheimer Holdings' and 'Bancorp Inc','Raymond James Financ' and 'Ameriprise Financial'"
      ],
      "metadata": {
        "id": "vdvk4a0PmUmi"
      }
    },
    {
      "cell_type": "code",
      "source": [
        "companies.head(3)"
      ],
      "metadata": {
        "colab": {
          "base_uri": "https://localhost:8080/",
          "height": 143
        },
        "id": "A7ar8J4EscQo",
        "outputId": "daa953c5-0487-456f-e6d8-3d5a345addd0"
      },
      "execution_count": 37,
      "outputs": [
        {
          "output_type": "execute_result",
          "data": {
            "text/plain": [
              "  ticker                  name exchange  capitalization\n",
              "0      A  Agilent Technologies     NYSE    1.915000e+10\n",
              "1     AA            Alcoa Corp     NYSE    6.480000e+09\n",
              "2   AAAG  AAA Century Group US  OTCMKTS    9.480000e+06"
            ],
            "text/html": [
              "\n",
              "  <div id=\"df-c848b178-0a65-4c9d-86cc-258b71708436\">\n",
              "    <div class=\"colab-df-container\">\n",
              "      <div>\n",
              "<style scoped>\n",
              "    .dataframe tbody tr th:only-of-type {\n",
              "        vertical-align: middle;\n",
              "    }\n",
              "\n",
              "    .dataframe tbody tr th {\n",
              "        vertical-align: top;\n",
              "    }\n",
              "\n",
              "    .dataframe thead th {\n",
              "        text-align: right;\n",
              "    }\n",
              "</style>\n",
              "<table border=\"1\" class=\"dataframe\">\n",
              "  <thead>\n",
              "    <tr style=\"text-align: right;\">\n",
              "      <th></th>\n",
              "      <th>ticker</th>\n",
              "      <th>name</th>\n",
              "      <th>exchange</th>\n",
              "      <th>capitalization</th>\n",
              "    </tr>\n",
              "  </thead>\n",
              "  <tbody>\n",
              "    <tr>\n",
              "      <th>0</th>\n",
              "      <td>A</td>\n",
              "      <td>Agilent Technologies</td>\n",
              "      <td>NYSE</td>\n",
              "      <td>1.915000e+10</td>\n",
              "    </tr>\n",
              "    <tr>\n",
              "      <th>1</th>\n",
              "      <td>AA</td>\n",
              "      <td>Alcoa Corp</td>\n",
              "      <td>NYSE</td>\n",
              "      <td>6.480000e+09</td>\n",
              "    </tr>\n",
              "    <tr>\n",
              "      <th>2</th>\n",
              "      <td>AAAG</td>\n",
              "      <td>AAA Century Group US</td>\n",
              "      <td>OTCMKTS</td>\n",
              "      <td>9.480000e+06</td>\n",
              "    </tr>\n",
              "  </tbody>\n",
              "</table>\n",
              "</div>\n",
              "      <button class=\"colab-df-convert\" onclick=\"convertToInteractive('df-c848b178-0a65-4c9d-86cc-258b71708436')\"\n",
              "              title=\"Convert this dataframe to an interactive table.\"\n",
              "              style=\"display:none;\">\n",
              "        \n",
              "  <svg xmlns=\"http://www.w3.org/2000/svg\" height=\"24px\"viewBox=\"0 0 24 24\"\n",
              "       width=\"24px\">\n",
              "    <path d=\"M0 0h24v24H0V0z\" fill=\"none\"/>\n",
              "    <path d=\"M18.56 5.44l.94 2.06.94-2.06 2.06-.94-2.06-.94-.94-2.06-.94 2.06-2.06.94zm-11 1L8.5 8.5l.94-2.06 2.06-.94-2.06-.94L8.5 2.5l-.94 2.06-2.06.94zm10 10l.94 2.06.94-2.06 2.06-.94-2.06-.94-.94-2.06-.94 2.06-2.06.94z\"/><path d=\"M17.41 7.96l-1.37-1.37c-.4-.4-.92-.59-1.43-.59-.52 0-1.04.2-1.43.59L10.3 9.45l-7.72 7.72c-.78.78-.78 2.05 0 2.83L4 21.41c.39.39.9.59 1.41.59.51 0 1.02-.2 1.41-.59l7.78-7.78 2.81-2.81c.8-.78.8-2.07 0-2.86zM5.41 20L4 18.59l7.72-7.72 1.47 1.35L5.41 20z\"/>\n",
              "  </svg>\n",
              "      </button>\n",
              "      \n",
              "  <style>\n",
              "    .colab-df-container {\n",
              "      display:flex;\n",
              "      flex-wrap:wrap;\n",
              "      gap: 12px;\n",
              "    }\n",
              "\n",
              "    .colab-df-convert {\n",
              "      background-color: #E8F0FE;\n",
              "      border: none;\n",
              "      border-radius: 50%;\n",
              "      cursor: pointer;\n",
              "      display: none;\n",
              "      fill: #1967D2;\n",
              "      height: 32px;\n",
              "      padding: 0 0 0 0;\n",
              "      width: 32px;\n",
              "    }\n",
              "\n",
              "    .colab-df-convert:hover {\n",
              "      background-color: #E2EBFA;\n",
              "      box-shadow: 0px 1px 2px rgba(60, 64, 67, 0.3), 0px 1px 3px 1px rgba(60, 64, 67, 0.15);\n",
              "      fill: #174EA6;\n",
              "    }\n",
              "\n",
              "    [theme=dark] .colab-df-convert {\n",
              "      background-color: #3B4455;\n",
              "      fill: #D2E3FC;\n",
              "    }\n",
              "\n",
              "    [theme=dark] .colab-df-convert:hover {\n",
              "      background-color: #434B5C;\n",
              "      box-shadow: 0px 1px 3px 1px rgba(0, 0, 0, 0.15);\n",
              "      filter: drop-shadow(0px 1px 2px rgba(0, 0, 0, 0.3));\n",
              "      fill: #FFFFFF;\n",
              "    }\n",
              "  </style>\n",
              "\n",
              "      <script>\n",
              "        const buttonEl =\n",
              "          document.querySelector('#df-c848b178-0a65-4c9d-86cc-258b71708436 button.colab-df-convert');\n",
              "        buttonEl.style.display =\n",
              "          google.colab.kernel.accessAllowed ? 'block' : 'none';\n",
              "\n",
              "        async function convertToInteractive(key) {\n",
              "          const element = document.querySelector('#df-c848b178-0a65-4c9d-86cc-258b71708436');\n",
              "          const dataTable =\n",
              "            await google.colab.kernel.invokeFunction('convertToInteractive',\n",
              "                                                     [key], {});\n",
              "          if (!dataTable) return;\n",
              "\n",
              "          const docLinkHtml = 'Like what you see? Visit the ' +\n",
              "            '<a target=\"_blank\" href=https://colab.research.google.com/notebooks/data_table.ipynb>data table notebook</a>'\n",
              "            + ' to learn more about interactive tables.';\n",
              "          element.innerHTML = '';\n",
              "          dataTable['output_type'] = 'display_data';\n",
              "          await google.colab.output.renderOutput(dataTable, element);\n",
              "          const docLink = document.createElement('div');\n",
              "          docLink.innerHTML = docLinkHtml;\n",
              "          element.appendChild(docLink);\n",
              "        }\n",
              "      </script>\n",
              "    </div>\n",
              "  </div>\n",
              "  "
            ]
          },
          "metadata": {},
          "execution_count": 37
        }
      ]
    },
    {
      "cell_type": "code",
      "source": [
        "target_stocks = ['RH', 'Morgan Stanley', 'Piper Jaffray Compan', 'Travelzoo', 'Bank of America Corp', \n",
        "                 'Citigroup Inc', 'Oppenheimer Holdings', 'Bancorp Inc', 'Raymond James Financ', 'Ameriprise Financial']"
      ],
      "metadata": {
        "id": "l1SBrBtpjyBR"
      },
      "execution_count": 38,
      "outputs": []
    },
    {
      "cell_type": "markdown",
      "source": [
        "The following dictionary stores top stocks names along with their capitalization:"
      ],
      "metadata": {
        "id": "X3FND8DZGANz"
      }
    },
    {
      "cell_type": "code",
      "source": [
        "target_stocks_capitalization = dict.fromkeys(target_stocks, 0) "
      ],
      "metadata": {
        "id": "Ydj_TudostmU"
      },
      "execution_count": 39,
      "outputs": []
    },
    {
      "cell_type": "code",
      "source": [
        "for stock in target_stocks:\n",
        "  target_stocks_capitalization[stock] = companies[companies.name==stock]['capitalization'].iloc[0]"
      ],
      "metadata": {
        "id": "5EiLwzRqtKz0"
      },
      "execution_count": 40,
      "outputs": []
    },
    {
      "cell_type": "code",
      "source": [
        "target_stocks_capitalization"
      ],
      "metadata": {
        "colab": {
          "base_uri": "https://localhost:8080/"
        },
        "id": "AZTYVZddEB9d",
        "outputId": "c81f7143-a035-4974-b02b-b2a78cb2de35"
      },
      "execution_count": 41,
      "outputs": [
        {
          "output_type": "execute_result",
          "data": {
            "text/plain": [
              "{'RH': 2250000000.0,\n",
              " 'Morgan Stanley': 86360000000.0,\n",
              " 'Piper Jaffray Compan': 931710000.0,\n",
              " 'Travelzoo': 149960000.0,\n",
              " 'Bank of America Corp': 252290000000.0,\n",
              " 'Citigroup Inc': 192350000000.0,\n",
              " 'Oppenheimer Holdings': 211220000.0,\n",
              " 'Bancorp Inc': 427690000.0,\n",
              " 'Raymond James Financ': 11590000000.0,\n",
              " 'Ameriprise Financial': 20440000000.0}"
            ]
          },
          "metadata": {},
          "execution_count": 41
        }
      ]
    },
    {
      "cell_type": "markdown",
      "source": [
        "The following dictionaries will store the stocks names along with their corresponding average sentiments in tweets:"
      ],
      "metadata": {
        "id": "yPpN1CQkrf43"
      }
    },
    {
      "cell_type": "code",
      "source": [
        "target_stocks_sentiments_BoW_dict = dict.fromkeys(target_stocks, 0) \n",
        "target_stocks_sentiments_TFIDF_dict = dict.fromkeys(target_stocks, 0) "
      ],
      "metadata": {
        "id": "um0JdMkKo_25"
      },
      "execution_count": 42,
      "outputs": []
    },
    {
      "cell_type": "code",
      "source": [
        "for stock in target_stocks:\n",
        "  c = 0\n",
        "  for i in range(len(tweets_reduced)):\n",
        "    if stock in tweets_reduced.text[i]:\n",
        "      c = c+1\n",
        "      target_stocks_sentiments_BoW_dict[stock] += tweets_reduced.sentiment_label_BoW[i]\n",
        "      target_stocks_sentiments_TFIDF_dict[stock] += tweets_reduced.sentiment_label_TFIDF[i]\n",
        "  target_stocks_sentiments_BoW_dict[stock] = target_stocks_sentiments_BoW_dict[stock]/c\n",
        "  target_stocks_sentiments_TFIDF_dict[stock] = target_stocks_sentiments_TFIDF_dict[stock]/c"
      ],
      "metadata": {
        "id": "dnWKnuF_n2Gm"
      },
      "execution_count": 43,
      "outputs": []
    },
    {
      "cell_type": "markdown",
      "source": [
        "plotting:"
      ],
      "metadata": {
        "id": "PcdIC_dCLPik"
      }
    },
    {
      "cell_type": "code",
      "source": [
        "fig, ax = plt.subplots(1, 1, figsize=(8, 6))\n",
        "ax.scatter(list(target_stocks_capitalization.values()), list(target_stocks_sentiments_BoW_dict.values()), c='b', label='BoW')\n",
        "ax.scatter(list(target_stocks_capitalization.values()), list(target_stocks_sentiments_TFIDF_dict.values()), c='r', label='TF-IDF')\n",
        "ax.set_xlabel('Capitalization of stocks')\n",
        "ax.set_ylabel('Average sentiments of tweets about stocks')\n",
        "ax.legend()\n",
        "plt.show()"
      ],
      "metadata": {
        "colab": {
          "base_uri": "https://localhost:8080/",
          "height": 388
        },
        "id": "r-Rd80TwLRmS",
        "outputId": "0ae2d8b1-82ed-4285-cf03-0421c56c7324"
      },
      "execution_count": 44,
      "outputs": [
        {
          "output_type": "display_data",
          "data": {
            "text/plain": [
              "<Figure size 576x432 with 1 Axes>"
            ],
            "image/png": "[encoded data removed]"
          },
          "metadata": {
            "needs_background": "light"
          }
        }
      ]
    },
    {
      "cell_type": "markdown",
      "source": [
        "From the above scatter plot, we can conclude that there is no correlation between capitalization of stocks and the average sentiments of tweets including them.\n",
        "\n",
        "In the following part, I calculate the correlation using Pearson and Spearman correlation metrics."
      ],
      "metadata": {
        "id": "GGNtSGSHRlLA"
      }
    },
    {
      "cell_type": "markdown",
      "source": [
        "## Pearson correlation:"
      ],
      "metadata": {
        "id": "MmoBB90IGI-c"
      }
    },
    {
      "cell_type": "code",
      "source": [
        "PearsonCorr_cap_BoW, _ = pearsonr( list(target_stocks_sentiments_BoW_dict.values()), list(target_stocks_capitalization.values()) )"
      ],
      "metadata": {
        "id": "VPMEY8DTr9bE"
      },
      "execution_count": 45,
      "outputs": []
    },
    {
      "cell_type": "code",
      "source": [
        "print('Pearson correlation coefficient between capitalization of stocks and the sentiments of their tweets (with BoW model) is:', PearsonCorr_cap_BoW)"
      ],
      "metadata": {
        "colab": {
          "base_uri": "https://localhost:8080/"
        },
        "id": "yC9swPhjG1n3",
        "outputId": "2bc5cfbd-ebf2-4e0d-edcb-7bae4b0231da"
      },
      "execution_count": 46,
      "outputs": [
        {
          "output_type": "stream",
          "name": "stdout",
          "text": [
            "Pearson correlation coefficient between capitalization of stocks and the sentiments of their tweets (with BoW model) is: 0.1442259865690016\n"
          ]
        }
      ]
    },
    {
      "cell_type": "code",
      "source": [
        "PearsonCorr_cap_TFIDF, _ = pearsonr( list(target_stocks_sentiments_TFIDF_dict.values()), list(target_stocks_capitalization.values()) )"
      ],
      "metadata": {
        "id": "COHTtNltHEbu"
      },
      "execution_count": 47,
      "outputs": []
    },
    {
      "cell_type": "code",
      "source": [
        "print('Pearson correlation coefficient between capitalization of stocks and the sentiments of their tweets (with TF-IDF model) is:', PearsonCorr_cap_TFIDF)"
      ],
      "metadata": {
        "colab": {
          "base_uri": "https://localhost:8080/"
        },
        "id": "8dyRCK3dHIUX",
        "outputId": "c42d6e77-39a2-4bba-90aa-8f1c9c540b11"
      },
      "execution_count": 48,
      "outputs": [
        {
          "output_type": "stream",
          "name": "stdout",
          "text": [
            "Pearson correlation coefficient between capitalization of stocks and the sentiments of their tweets (with TF-IDF model) is: 0.03273453119368089\n"
          ]
        }
      ]
    },
    {
      "cell_type": "markdown",
      "source": [
        "### **Conclusion**"
      ],
      "metadata": {
        "id": "RwwEDyQHHUUz"
      }
    },
    {
      "cell_type": "markdown",
      "source": [
        "From the above results, we can see that there is **no strong linear correlation**  between capitalization of stocks and average sentiments of tweets about them."
      ],
      "metadata": {
        "id": "dWDY4dF8HlU8"
      }
    },
    {
      "cell_type": "markdown",
      "source": [
        "## Spearman correlation:"
      ],
      "metadata": {
        "id": "ea7utBZpH6IU"
      }
    },
    {
      "cell_type": "code",
      "source": [
        "SpearmanCorr_cap_BoW, _ = spearmanr( list(target_stocks_sentiments_BoW_dict.values()), list(target_stocks_capitalization.values()) )"
      ],
      "metadata": {
        "id": "JVIK3f9KH_gM"
      },
      "execution_count": 49,
      "outputs": []
    },
    {
      "cell_type": "code",
      "source": [
        "print('Spearman correlation coefficient between capitalization of stocks and the sentiments of their tweets (with BoW model) is:', SpearmanCorr_cap_BoW)"
      ],
      "metadata": {
        "colab": {
          "base_uri": "https://localhost:8080/"
        },
        "id": "qmKPUcPlIM0p",
        "outputId": "2187ea93-af39-452c-e4de-62e37f218e5b"
      },
      "execution_count": 50,
      "outputs": [
        {
          "output_type": "stream",
          "name": "stdout",
          "text": [
            "Spearman correlation coefficient between capitalization of stocks and the sentiments of their tweets (with BoW model) is: 0.32218993815043423\n"
          ]
        }
      ]
    },
    {
      "cell_type": "code",
      "source": [
        "SpearmanCorr_cap_TFIDF, _ = spearmanr( list(target_stocks_sentiments_TFIDF_dict.values()), list(target_stocks_capitalization.values()) )"
      ],
      "metadata": {
        "id": "Ik28wNA6IStO"
      },
      "execution_count": 51,
      "outputs": []
    },
    {
      "cell_type": "code",
      "source": [
        "print('Spearman correlation coefficient between capitalization of stocks and the sentiments of their tweets (with TF-IDF model) is:', SpearmanCorr_cap_TFIDF)"
      ],
      "metadata": {
        "colab": {
          "base_uri": "https://localhost:8080/"
        },
        "id": "urYa9T63Ial0",
        "outputId": "f6333006-bd03-41e8-90fe-1436dafdeaf4"
      },
      "execution_count": 52,
      "outputs": [
        {
          "output_type": "stream",
          "name": "stdout",
          "text": [
            "Spearman correlation coefficient between capitalization of stocks and the sentiments of their tweets (with TF-IDF model) is: 0.33333333333333326\n"
          ]
        }
      ]
    },
    {
      "cell_type": "markdown",
      "source": [
        "### **Conclusion**:\n",
        "\n",
        "There is **no strong nonlinear correlatio**n between capitalization of stocks and average sentiments of tweets about them."
      ],
      "metadata": {
        "id": "nmtOwK_DIgV3"
      }
    },
    {
      "cell_type": "markdown",
      "source": [
        "# Part 3-a: Correlation between number of financial tweets and the sentiment of those tweets over time"
      ],
      "metadata": {
        "id": "JmIJv72zFQLG"
      }
    },
    {
      "cell_type": "markdown",
      "source": [
        "Like what I did in the first phase of the project, first I create a dictionay which stores tweets IDs along with number of individual stocks mentioned in them:"
      ],
      "metadata": {
        "id": "wwqqDLQ8NmO8"
      }
    },
    {
      "cell_type": "code",
      "source": [
        "# converting the data_created column to datetime object\n",
        "tweets_reduced['created_at'] = pd.to_datetime(tweets_reduced['created_at'])"
      ],
      "metadata": {
        "id": "YS3qFCGGFR2N"
      },
      "execution_count": 53,
      "outputs": []
    },
    {
      "cell_type": "code",
      "source": [
        "# sorting the dataframe by its creation time\n",
        "tweets_reduced = tweets_reduced.sort_values(by='created_at')\n",
        "tweets_reduced = tweets_reduced.reset_index()"
      ],
      "metadata": {
        "id": "DM4TBiFbAGtQ"
      },
      "execution_count": 54,
      "outputs": []
    },
    {
      "cell_type": "code",
      "source": [
        "tweets_Nstock = dict.fromkeys(tweets_reduced['id'], 0) "
      ],
      "metadata": {
        "id": "_mcGQzpZOAAr"
      },
      "execution_count": 55,
      "outputs": []
    },
    {
      "cell_type": "code",
      "source": [
        "for i in range(len(tweets_reduced)):\n",
        "  tweet = tweets_reduced['text'][i]\n",
        "  tweet.replace(r'(', '')\n",
        "  tweet.replace(r')', '')\n",
        "  id = tweets_reduced['id'][i]\n",
        "  for stock in companies['name']:\n",
        "    if stock in tweet:\n",
        "      tweets_Nstock[id] += 1"
      ],
      "metadata": {
        "id": "LG_zT7_lOFQU"
      },
      "execution_count": 56,
      "outputs": []
    },
    {
      "cell_type": "code",
      "source": [
        "# sorting\n",
        "tweets_Nstock = dict(sorted(tweets_Nstock.items(), key=lambda item: item[1], reverse=True))"
      ],
      "metadata": {
        "id": "Yrrc2Sx4PP_r"
      },
      "execution_count": 57,
      "outputs": []
    },
    {
      "cell_type": "markdown",
      "source": [
        "I save this dictionaty for furthure use:"
      ],
      "metadata": {
        "id": "zN0qGVaTOIC4"
      }
    },
    {
      "cell_type": "code",
      "source": [
        "try:\n",
        "    file_dict = open('gdrive/MyDrive/DataScience/Project/tweets_Nstock_Phase_3', 'wb')\n",
        "    pickle.dump(tweets_Nstock, file_dict)\n",
        "    file_dict.close()\n",
        "except:\n",
        "    print(\"Something went wrong in saving the doctionary\")"
      ],
      "metadata": {
        "id": "Kt39VNfjOLbG"
      },
      "execution_count": 58,
      "outputs": []
    },
    {
      "cell_type": "markdown",
      "source": [
        "Loading the dictionay:"
      ],
      "metadata": {
        "id": "uXJ0VkMZn6Tr"
      }
    },
    {
      "cell_type": "code",
      "source": [
        "with open('gdrive/MyDrive/DataScience/Project/tweets_Nstock_Phase_3', 'rb') as f:\n",
        "    tweets_Nstock = pickle.load(f)"
      ],
      "metadata": {
        "id": "utnDXcqnOXfe"
      },
      "execution_count": 59,
      "outputs": []
    },
    {
      "cell_type": "markdown",
      "source": [
        "Now, I will extract those tweets which include at least one stock name:"
      ],
      "metadata": {
        "id": "vnF_hn5rKkw9"
      }
    },
    {
      "cell_type": "code",
      "source": [
        "desired_IDs = [k for k,v in tweets_Nstock.items() if v>=1]\n",
        "Numstock_desired_IDs = [v for k,v in tweets_Nstock.items() if v>=1]"
      ],
      "metadata": {
        "id": "KXxwDG3IJPC2"
      },
      "execution_count": 60,
      "outputs": []
    },
    {
      "cell_type": "code",
      "source": [
        "print('Number of tweets which include at least 1 individual stock: ', len(desired_IDs))"
      ],
      "metadata": {
        "colab": {
          "base_uri": "https://localhost:8080/"
        },
        "id": "pcWWeypZJO9K",
        "outputId": "eaa5c31a-47d4-442a-df7d-76a362a6cf7f"
      },
      "execution_count": 61,
      "outputs": [
        {
          "output_type": "stream",
          "name": "stdout",
          "text": [
            "Number of tweets which include at least 1 individual stock:  2737\n"
          ]
        }
      ]
    },
    {
      "cell_type": "markdown",
      "source": [
        "creating a new dataframe with these tweets and their creation time:"
      ],
      "metadata": {
        "id": "GPj4EGJqK78Q"
      }
    },
    {
      "cell_type": "code",
      "source": [
        "desired_created_at = []\n",
        "desired_bow_label = []\n",
        "desired_tfidf_label = []\n",
        "for i in range(len(desired_IDs)):\n",
        "  desired_created_at.append( (tweets_reduced.loc[tweets_reduced['id'] == desired_IDs[i], 'created_at']).iloc[0] )\n",
        "  desired_bow_label.append( (tweets_reduced.loc[tweets_reduced['id'] == desired_IDs[i], 'sentiment_label_BoW']).iloc[0] )\n",
        "  desired_tfidf_label.append( (tweets_reduced.loc[tweets_reduced['id'] == desired_IDs[i], 'sentiment_label_TFIDF']).iloc[0] )"
      ],
      "metadata": {
        "id": "x0_Agt41K8Ph"
      },
      "execution_count": 62,
      "outputs": []
    },
    {
      "cell_type": "code",
      "source": [
        "desired_IDs_dataframe = pd.DataFrame()\n",
        "desired_IDs_dataframe['id'] = desired_IDs\n",
        "desired_IDs_dataframe['Number_of_individual_stocks_included'] = Numstock_desired_IDs\n",
        "desired_IDs_dataframe['created_at'] = desired_created_at\n",
        "desired_IDs_dataframe['sentiment_label_BoW'] = desired_bow_label\n",
        "desired_IDs_dataframe['sentiment_label_TFIDF'] = desired_tfidf_label\n",
        "desired_IDs_dataframe['n'] = [1]*len(desired_created_at)"
      ],
      "metadata": {
        "id": "CmGc9zKHO_Qu"
      },
      "execution_count": 63,
      "outputs": []
    },
    {
      "cell_type": "code",
      "source": [
        "desired_IDs_dataframe.head(3)"
      ],
      "metadata": {
        "colab": {
          "base_uri": "https://localhost:8080/",
          "height": 143
        },
        "id": "rlWZHwafPCoJ",
        "outputId": "882b9d85-a3a1-4677-b3a4-e7c375717958"
      },
      "execution_count": 64,
      "outputs": [
        {
          "output_type": "execute_result",
          "data": {
            "text/plain": [
              "                   id  Number_of_individual_stocks_included  \\\n",
              "0  875726298718535680                                     9   \n",
              "1  867213089162317824                                     7   \n",
              "2  868240161133481984                                     7   \n",
              "\n",
              "                 created_at  sentiment_label_BoW  sentiment_label_TFIDF  n  \n",
              "0 2017-06-16 14:46:34+00:00                    4                      4  1  \n",
              "1 2017-05-24 02:58:07+00:00                    4                      4  1  \n",
              "2 2017-05-26 22:59:20+00:00                    4                      4  1  "
            ],
            "text/html": [
              "\n",
              "  <div id=\"df-f7858714-3109-4b3a-a09a-f5d1201b2a05\">\n",
              "    <div class=\"colab-df-container\">\n",
              "      <div>\n",
              "<style scoped>\n",
              "    .dataframe tbody tr th:only-of-type {\n",
              "        vertical-align: middle;\n",
              "    }\n",
              "\n",
              "    .dataframe tbody tr th {\n",
              "        vertical-align: top;\n",
              "    }\n",
              "\n",
              "    .dataframe thead th {\n",
              "        text-align: right;\n",
              "    }\n",
              "</style>\n",
              "<table border=\"1\" class=\"dataframe\">\n",
              "  <thead>\n",
              "    <tr style=\"text-align: right;\">\n",
              "      <th></th>\n",
              "      <th>id</th>\n",
              "      <th>Number_of_individual_stocks_included</th>\n",
              "      <th>created_at</th>\n",
              "      <th>sentiment_label_BoW</th>\n",
              "      <th>sentiment_label_TFIDF</th>\n",
              "      <th>n</th>\n",
              "    </tr>\n",
              "  </thead>\n",
              "  <tbody>\n",
              "    <tr>\n",
              "      <th>0</th>\n",
              "      <td>875726298718535680</td>\n",
              "      <td>9</td>\n",
              "      <td>2017-06-16 14:46:34+00:00</td>\n",
              "      <td>4</td>\n",
              "      <td>4</td>\n",
              "      <td>1</td>\n",
              "    </tr>\n",
              "    <tr>\n",
              "      <th>1</th>\n",
              "      <td>867213089162317824</td>\n",
              "      <td>7</td>\n",
              "      <td>2017-05-24 02:58:07+00:00</td>\n",
              "      <td>4</td>\n",
              "      <td>4</td>\n",
              "      <td>1</td>\n",
              "    </tr>\n",
              "    <tr>\n",
              "      <th>2</th>\n",
              "      <td>868240161133481984</td>\n",
              "      <td>7</td>\n",
              "      <td>2017-05-26 22:59:20+00:00</td>\n",
              "      <td>4</td>\n",
              "      <td>4</td>\n",
              "      <td>1</td>\n",
              "    </tr>\n",
              "  </tbody>\n",
              "</table>\n",
              "</div>\n",
              "      <button class=\"colab-df-convert\" onclick=\"convertToInteractive('df-f7858714-3109-4b3a-a09a-f5d1201b2a05')\"\n",
              "              title=\"Convert this dataframe to an interactive table.\"\n",
              "              style=\"display:none;\">\n",
              "        \n",
              "  <svg xmlns=\"http://www.w3.org/2000/svg\" height=\"24px\"viewBox=\"0 0 24 24\"\n",
              "       width=\"24px\">\n",
              "    <path d=\"M0 0h24v24H0V0z\" fill=\"none\"/>\n",
              "    <path d=\"M18.56 5.44l.94 2.06.94-2.06 2.06-.94-2.06-.94-.94-2.06-.94 2.06-2.06.94zm-11 1L8.5 8.5l.94-2.06 2.06-.94-2.06-.94L8.5 2.5l-.94 2.06-2.06.94zm10 10l.94 2.06.94-2.06 2.06-.94-2.06-.94-.94-2.06-.94 2.06-2.06.94z\"/><path d=\"M17.41 7.96l-1.37-1.37c-.4-.4-.92-.59-1.43-.59-.52 0-1.04.2-1.43.59L10.3 9.45l-7.72 7.72c-.78.78-.78 2.05 0 2.83L4 21.41c.39.39.9.59 1.41.59.51 0 1.02-.2 1.41-.59l7.78-7.78 2.81-2.81c.8-.78.8-2.07 0-2.86zM5.41 20L4 18.59l7.72-7.72 1.47 1.35L5.41 20z\"/>\n",
              "  </svg>\n",
              "      </button>\n",
              "      \n",
              "  <style>\n",
              "    .colab-df-container {\n",
              "      display:flex;\n",
              "      flex-wrap:wrap;\n",
              "      gap: 12px;\n",
              "    }\n",
              "\n",
              "    .colab-df-convert {\n",
              "      background-color: #E8F0FE;\n",
              "      border: none;\n",
              "      border-radius: 50%;\n",
              "      cursor: pointer;\n",
              "      display: none;\n",
              "      fill: #1967D2;\n",
              "      height: 32px;\n",
              "      padding: 0 0 0 0;\n",
              "      width: 32px;\n",
              "    }\n",
              "\n",
              "    .colab-df-convert:hover {\n",
              "      background-color: #E2EBFA;\n",
              "      box-shadow: 0px 1px 2px rgba(60, 64, 67, 0.3), 0px 1px 3px 1px rgba(60, 64, 67, 0.15);\n",
              "      fill: #174EA6;\n",
              "    }\n",
              "\n",
              "    [theme=dark] .colab-df-convert {\n",
              "      background-color: #3B4455;\n",
              "      fill: #D2E3FC;\n",
              "    }\n",
              "\n",
              "    [theme=dark] .colab-df-convert:hover {\n",
              "      background-color: #434B5C;\n",
              "      box-shadow: 0px 1px 3px 1px rgba(0, 0, 0, 0.15);\n",
              "      filter: drop-shadow(0px 1px 2px rgba(0, 0, 0, 0.3));\n",
              "      fill: #FFFFFF;\n",
              "    }\n",
              "  </style>\n",
              "\n",
              "      <script>\n",
              "        const buttonEl =\n",
              "          document.querySelector('#df-f7858714-3109-4b3a-a09a-f5d1201b2a05 button.colab-df-convert');\n",
              "        buttonEl.style.display =\n",
              "          google.colab.kernel.accessAllowed ? 'block' : 'none';\n",
              "\n",
              "        async function convertToInteractive(key) {\n",
              "          const element = document.querySelector('#df-f7858714-3109-4b3a-a09a-f5d1201b2a05');\n",
              "          const dataTable =\n",
              "            await google.colab.kernel.invokeFunction('convertToInteractive',\n",
              "                                                     [key], {});\n",
              "          if (!dataTable) return;\n",
              "\n",
              "          const docLinkHtml = 'Like what you see? Visit the ' +\n",
              "            '<a target=\"_blank\" href=https://colab.research.google.com/notebooks/data_table.ipynb>data table notebook</a>'\n",
              "            + ' to learn more about interactive tables.';\n",
              "          element.innerHTML = '';\n",
              "          dataTable['output_type'] = 'display_data';\n",
              "          await google.colab.output.renderOutput(dataTable, element);\n",
              "          const docLink = document.createElement('div');\n",
              "          docLink.innerHTML = docLinkHtml;\n",
              "          element.appendChild(docLink);\n",
              "        }\n",
              "      </script>\n",
              "    </div>\n",
              "  </div>\n",
              "  "
            ]
          },
          "metadata": {},
          "execution_count": 64
        }
      ]
    },
    {
      "cell_type": "code",
      "source": [
        "desired_IDs_dataframe.tail(3)"
      ],
      "metadata": {
        "colab": {
          "base_uri": "https://localhost:8080/",
          "height": 143
        },
        "id": "e5yLgnI2PW9w",
        "outputId": "4ae84368-2249-48a8-d622-abbbcf5f9325"
      },
      "execution_count": 65,
      "outputs": [
        {
          "output_type": "execute_result",
          "data": {
            "text/plain": [
              "                      id  Number_of_individual_stocks_included  \\\n",
              "2734  907702469182070786                                     1   \n",
              "2735  907709838796492802                                     1   \n",
              "2736  907716130873253888                                     1   \n",
              "\n",
              "                    created_at  sentiment_label_BoW  sentiment_label_TFIDF  n  \n",
              "2734 2017-09-12 20:28:27+00:00                    0                      0  1  \n",
              "2735 2017-09-12 20:57:44+00:00                    0                      0  1  \n",
              "2736 2017-09-12 21:22:44+00:00                    0                      0  1  "
            ],
            "text/html": [
              "\n",
              "  <div id=\"df-bcd823e4-657a-4d1f-ad95-2773e7cf9c9a\">\n",
              "    <div class=\"colab-df-container\">\n",
              "      <div>\n",
              "<style scoped>\n",
              "    .dataframe tbody tr th:only-of-type {\n",
              "        vertical-align: middle;\n",
              "    }\n",
              "\n",
              "    .dataframe tbody tr th {\n",
              "        vertical-align: top;\n",
              "    }\n",
              "\n",
              "    .dataframe thead th {\n",
              "        text-align: right;\n",
              "    }\n",
              "</style>\n",
              "<table border=\"1\" class=\"dataframe\">\n",
              "  <thead>\n",
              "    <tr style=\"text-align: right;\">\n",
              "      <th></th>\n",
              "      <th>id</th>\n",
              "      <th>Number_of_individual_stocks_included</th>\n",
              "      <th>created_at</th>\n",
              "      <th>sentiment_label_BoW</th>\n",
              "      <th>sentiment_label_TFIDF</th>\n",
              "      <th>n</th>\n",
              "    </tr>\n",
              "  </thead>\n",
              "  <tbody>\n",
              "    <tr>\n",
              "      <th>2734</th>\n",
              "      <td>907702469182070786</td>\n",
              "      <td>1</td>\n",
              "      <td>2017-09-12 20:28:27+00:00</td>\n",
              "      <td>0</td>\n",
              "      <td>0</td>\n",
              "      <td>1</td>\n",
              "    </tr>\n",
              "    <tr>\n",
              "      <th>2735</th>\n",
              "      <td>907709838796492802</td>\n",
              "      <td>1</td>\n",
              "      <td>2017-09-12 20:57:44+00:00</td>\n",
              "      <td>0</td>\n",
              "      <td>0</td>\n",
              "      <td>1</td>\n",
              "    </tr>\n",
              "    <tr>\n",
              "      <th>2736</th>\n",
              "      <td>907716130873253888</td>\n",
              "      <td>1</td>\n",
              "      <td>2017-09-12 21:22:44+00:00</td>\n",
              "      <td>0</td>\n",
              "      <td>0</td>\n",
              "      <td>1</td>\n",
              "    </tr>\n",
              "  </tbody>\n",
              "</table>\n",
              "</div>\n",
              "      <button class=\"colab-df-convert\" onclick=\"convertToInteractive('df-bcd823e4-657a-4d1f-ad95-2773e7cf9c9a')\"\n",
              "              title=\"Convert this dataframe to an interactive table.\"\n",
              "              style=\"display:none;\">\n",
              "        \n",
              "  <svg xmlns=\"http://www.w3.org/2000/svg\" height=\"24px\"viewBox=\"0 0 24 24\"\n",
              "       width=\"24px\">\n",
              "    <path d=\"M0 0h24v24H0V0z\" fill=\"none\"/>\n",
              "    <path d=\"M18.56 5.44l.94 2.06.94-2.06 2.06-.94-2.06-.94-.94-2.06-.94 2.06-2.06.94zm-11 1L8.5 8.5l.94-2.06 2.06-.94-2.06-.94L8.5 2.5l-.94 2.06-2.06.94zm10 10l.94 2.06.94-2.06 2.06-.94-2.06-.94-.94-2.06-.94 2.06-2.06.94z\"/><path d=\"M17.41 7.96l-1.37-1.37c-.4-.4-.92-.59-1.43-.59-.52 0-1.04.2-1.43.59L10.3 9.45l-7.72 7.72c-.78.78-.78 2.05 0 2.83L4 21.41c.39.39.9.59 1.41.59.51 0 1.02-.2 1.41-.59l7.78-7.78 2.81-2.81c.8-.78.8-2.07 0-2.86zM5.41 20L4 18.59l7.72-7.72 1.47 1.35L5.41 20z\"/>\n",
              "  </svg>\n",
              "      </button>\n",
              "      \n",
              "  <style>\n",
              "    .colab-df-container {\n",
              "      display:flex;\n",
              "      flex-wrap:wrap;\n",
              "      gap: 12px;\n",
              "    }\n",
              "\n",
              "    .colab-df-convert {\n",
              "      background-color: #E8F0FE;\n",
              "      border: none;\n",
              "      border-radius: 50%;\n",
              "      cursor: pointer;\n",
              "      display: none;\n",
              "      fill: #1967D2;\n",
              "      height: 32px;\n",
              "      padding: 0 0 0 0;\n",
              "      width: 32px;\n",
              "    }\n",
              "\n",
              "    .colab-df-convert:hover {\n",
              "      background-color: #E2EBFA;\n",
              "      box-shadow: 0px 1px 2px rgba(60, 64, 67, 0.3), 0px 1px 3px 1px rgba(60, 64, 67, 0.15);\n",
              "      fill: #174EA6;\n",
              "    }\n",
              "\n",
              "    [theme=dark] .colab-df-convert {\n",
              "      background-color: #3B4455;\n",
              "      fill: #D2E3FC;\n",
              "    }\n",
              "\n",
              "    [theme=dark] .colab-df-convert:hover {\n",
              "      background-color: #434B5C;\n",
              "      box-shadow: 0px 1px 3px 1px rgba(0, 0, 0, 0.15);\n",
              "      filter: drop-shadow(0px 1px 2px rgba(0, 0, 0, 0.3));\n",
              "      fill: #FFFFFF;\n",
              "    }\n",
              "  </style>\n",
              "\n",
              "      <script>\n",
              "        const buttonEl =\n",
              "          document.querySelector('#df-bcd823e4-657a-4d1f-ad95-2773e7cf9c9a button.colab-df-convert');\n",
              "        buttonEl.style.display =\n",
              "          google.colab.kernel.accessAllowed ? 'block' : 'none';\n",
              "\n",
              "        async function convertToInteractive(key) {\n",
              "          const element = document.querySelector('#df-bcd823e4-657a-4d1f-ad95-2773e7cf9c9a');\n",
              "          const dataTable =\n",
              "            await google.colab.kernel.invokeFunction('convertToInteractive',\n",
              "                                                     [key], {});\n",
              "          if (!dataTable) return;\n",
              "\n",
              "          const docLinkHtml = 'Like what you see? Visit the ' +\n",
              "            '<a target=\"_blank\" href=https://colab.research.google.com/notebooks/data_table.ipynb>data table notebook</a>'\n",
              "            + ' to learn more about interactive tables.';\n",
              "          element.innerHTML = '';\n",
              "          dataTable['output_type'] = 'display_data';\n",
              "          await google.colab.output.renderOutput(dataTable, element);\n",
              "          const docLink = document.createElement('div');\n",
              "          docLink.innerHTML = docLinkHtml;\n",
              "          element.appendChild(docLink);\n",
              "        }\n",
              "      </script>\n",
              "    </div>\n",
              "  </div>\n",
              "  "
            ]
          },
          "metadata": {},
          "execution_count": 65
        }
      ]
    },
    {
      "cell_type": "markdown",
      "source": [
        "I save this dataframe for furthur use:"
      ],
      "metadata": {
        "id": "uNxdDlWzoUrJ"
      }
    },
    {
      "cell_type": "code",
      "source": [
        "try:\n",
        "    file_n = open('gdrive/MyDrive/DataScience/Project/tweets_Nstocks_Phase_3.csv', 'wb')\n",
        "    pickle.dump(desired_IDs_dataframe, file_n)\n",
        "    file_n.close()\n",
        "except:\n",
        "    print(\"Something went wrong in saving the doctionary\")"
      ],
      "metadata": {
        "id": "X0uHjBaNjbx9"
      },
      "execution_count": 66,
      "outputs": []
    },
    {
      "cell_type": "markdown",
      "source": [
        "### Distribution of tweets including at least one stock per Day:"
      ],
      "metadata": {
        "id": "ldJekyROpH72"
      }
    },
    {
      "cell_type": "code",
      "source": [
        "NumDaily_tweets = desired_IDs_dataframe.groupby(pd.PeriodIndex(desired_IDs_dataframe['created_at'], freq=\"D\"))['n'].sum().reset_index()"
      ],
      "metadata": {
        "id": "6BHidWsOpOMV"
      },
      "execution_count": 67,
      "outputs": []
    },
    {
      "cell_type": "code",
      "source": [
        "NumDaily_tweets.head(3)"
      ],
      "metadata": {
        "colab": {
          "base_uri": "https://localhost:8080/",
          "height": 143
        },
        "id": "iX70igVNpfoO",
        "outputId": "46068fd5-1925-486b-a349-c8b3561aa51b"
      },
      "execution_count": 68,
      "outputs": [
        {
          "output_type": "execute_result",
          "data": {
            "text/plain": [
              "   created_at   n\n",
              "0  2017-05-18   1\n",
              "1  2017-05-19  38\n",
              "2  2017-05-20  22"
            ],
            "text/html": [
              "\n",
              "  <div id=\"df-60e7069f-436c-4621-92e3-75ac236f241a\">\n",
              "    <div class=\"colab-df-container\">\n",
              "      <div>\n",
              "<style scoped>\n",
              "    .dataframe tbody tr th:only-of-type {\n",
              "        vertical-align: middle;\n",
              "    }\n",
              "\n",
              "    .dataframe tbody tr th {\n",
              "        vertical-align: top;\n",
              "    }\n",
              "\n",
              "    .dataframe thead th {\n",
              "        text-align: right;\n",
              "    }\n",
              "</style>\n",
              "<table border=\"1\" class=\"dataframe\">\n",
              "  <thead>\n",
              "    <tr style=\"text-align: right;\">\n",
              "      <th></th>\n",
              "      <th>created_at</th>\n",
              "      <th>n</th>\n",
              "    </tr>\n",
              "  </thead>\n",
              "  <tbody>\n",
              "    <tr>\n",
              "      <th>0</th>\n",
              "      <td>2017-05-18</td>\n",
              "      <td>1</td>\n",
              "    </tr>\n",
              "    <tr>\n",
              "      <th>1</th>\n",
              "      <td>2017-05-19</td>\n",
              "      <td>38</td>\n",
              "    </tr>\n",
              "    <tr>\n",
              "      <th>2</th>\n",
              "      <td>2017-05-20</td>\n",
              "      <td>22</td>\n",
              "    </tr>\n",
              "  </tbody>\n",
              "</table>\n",
              "</div>\n",
              "      <button class=\"colab-df-convert\" onclick=\"convertToInteractive('df-60e7069f-436c-4621-92e3-75ac236f241a')\"\n",
              "              title=\"Convert this dataframe to an interactive table.\"\n",
              "              style=\"display:none;\">\n",
              "        \n",
              "  <svg xmlns=\"http://www.w3.org/2000/svg\" height=\"24px\"viewBox=\"0 0 24 24\"\n",
              "       width=\"24px\">\n",
              "    <path d=\"M0 0h24v24H0V0z\" fill=\"none\"/>\n",
              "    <path d=\"M18.56 5.44l.94 2.06.94-2.06 2.06-.94-2.06-.94-.94-2.06-.94 2.06-2.06.94zm-11 1L8.5 8.5l.94-2.06 2.06-.94-2.06-.94L8.5 2.5l-.94 2.06-2.06.94zm10 10l.94 2.06.94-2.06 2.06-.94-2.06-.94-.94-2.06-.94 2.06-2.06.94z\"/><path d=\"M17.41 7.96l-1.37-1.37c-.4-.4-.92-.59-1.43-.59-.52 0-1.04.2-1.43.59L10.3 9.45l-7.72 7.72c-.78.78-.78 2.05 0 2.83L4 21.41c.39.39.9.59 1.41.59.51 0 1.02-.2 1.41-.59l7.78-7.78 2.81-2.81c.8-.78.8-2.07 0-2.86zM5.41 20L4 18.59l7.72-7.72 1.47 1.35L5.41 20z\"/>\n",
              "  </svg>\n",
              "      </button>\n",
              "      \n",
              "  <style>\n",
              "    .colab-df-container {\n",
              "      display:flex;\n",
              "      flex-wrap:wrap;\n",
              "      gap: 12px;\n",
              "    }\n",
              "\n",
              "    .colab-df-convert {\n",
              "      background-color: #E8F0FE;\n",
              "      border: none;\n",
              "      border-radius: 50%;\n",
              "      cursor: pointer;\n",
              "      display: none;\n",
              "      fill: #1967D2;\n",
              "      height: 32px;\n",
              "      padding: 0 0 0 0;\n",
              "      width: 32px;\n",
              "    }\n",
              "\n",
              "    .colab-df-convert:hover {\n",
              "      background-color: #E2EBFA;\n",
              "      box-shadow: 0px 1px 2px rgba(60, 64, 67, 0.3), 0px 1px 3px 1px rgba(60, 64, 67, 0.15);\n",
              "      fill: #174EA6;\n",
              "    }\n",
              "\n",
              "    [theme=dark] .colab-df-convert {\n",
              "      background-color: #3B4455;\n",
              "      fill: #D2E3FC;\n",
              "    }\n",
              "\n",
              "    [theme=dark] .colab-df-convert:hover {\n",
              "      background-color: #434B5C;\n",
              "      box-shadow: 0px 1px 3px 1px rgba(0, 0, 0, 0.15);\n",
              "      filter: drop-shadow(0px 1px 2px rgba(0, 0, 0, 0.3));\n",
              "      fill: #FFFFFF;\n",
              "    }\n",
              "  </style>\n",
              "\n",
              "      <script>\n",
              "        const buttonEl =\n",
              "          document.querySelector('#df-60e7069f-436c-4621-92e3-75ac236f241a button.colab-df-convert');\n",
              "        buttonEl.style.display =\n",
              "          google.colab.kernel.accessAllowed ? 'block' : 'none';\n",
              "\n",
              "        async function convertToInteractive(key) {\n",
              "          const element = document.querySelector('#df-60e7069f-436c-4621-92e3-75ac236f241a');\n",
              "          const dataTable =\n",
              "            await google.colab.kernel.invokeFunction('convertToInteractive',\n",
              "                                                     [key], {});\n",
              "          if (!dataTable) return;\n",
              "\n",
              "          const docLinkHtml = 'Like what you see? Visit the ' +\n",
              "            '<a target=\"_blank\" href=https://colab.research.google.com/notebooks/data_table.ipynb>data table notebook</a>'\n",
              "            + ' to learn more about interactive tables.';\n",
              "          element.innerHTML = '';\n",
              "          dataTable['output_type'] = 'display_data';\n",
              "          await google.colab.output.renderOutput(dataTable, element);\n",
              "          const docLink = document.createElement('div');\n",
              "          docLink.innerHTML = docLinkHtml;\n",
              "          element.appendChild(docLink);\n",
              "        }\n",
              "      </script>\n",
              "    </div>\n",
              "  </div>\n",
              "  "
            ]
          },
          "metadata": {},
          "execution_count": 68
        }
      ]
    },
    {
      "cell_type": "markdown",
      "source": [
        "Saving this dataframe for furthure use:"
      ],
      "metadata": {
        "id": "9oXbbL404rJ3"
      }
    },
    {
      "cell_type": "code",
      "source": [
        "try:\n",
        "    file_n = open('gdrive/MyDrive/DataScience/Project/Nstocks_Daily_tweets_Phase_3.csv', 'wb')\n",
        "    pickle.dump(NumDaily_tweets, file_n)\n",
        "    file_n.close()\n",
        "except:\n",
        "    print(\"Something went wrong in saving the doctionary\")"
      ],
      "metadata": {
        "id": "eJYEgFx82XOi"
      },
      "execution_count": 69,
      "outputs": []
    },
    {
      "cell_type": "markdown",
      "source": [
        "### Distribution of sentiments of tweets (using BoW labels) per Day:"
      ],
      "metadata": {
        "id": "XjAahEMx5Rr_"
      }
    },
    {
      "cell_type": "code",
      "source": [
        "SentimentDaily_tweets_BoW = desired_IDs_dataframe.groupby(pd.PeriodIndex(desired_IDs_dataframe['created_at'], freq=\"D\"))['sentiment_label_BoW'].mean().reset_index()"
      ],
      "metadata": {
        "id": "DBmTCI-u0HcF"
      },
      "execution_count": 70,
      "outputs": []
    },
    {
      "cell_type": "code",
      "source": [
        "SentimentDaily_tweets_BoW.head(3)"
      ],
      "metadata": {
        "colab": {
          "base_uri": "https://localhost:8080/",
          "height": 143
        },
        "id": "ZRS7GUUo2Umk",
        "outputId": "46667bfb-7d2f-4011-d745-cdacd23840ac"
      },
      "execution_count": 71,
      "outputs": [
        {
          "output_type": "execute_result",
          "data": {
            "text/plain": [
              "   created_at  sentiment_label_BoW\n",
              "0  2017-05-18             4.000000\n",
              "1  2017-05-19             1.263158\n",
              "2  2017-05-20             1.454545"
            ],
            "text/html": [
              "\n",
              "  <div id=\"df-bdea5aa1-7dff-4adb-92df-2273de8a133c\">\n",
              "    <div class=\"colab-df-container\">\n",
              "      <div>\n",
              "<style scoped>\n",
              "    .dataframe tbody tr th:only-of-type {\n",
              "        vertical-align: middle;\n",
              "    }\n",
              "\n",
              "    .dataframe tbody tr th {\n",
              "        vertical-align: top;\n",
              "    }\n",
              "\n",
              "    .dataframe thead th {\n",
              "        text-align: right;\n",
              "    }\n",
              "</style>\n",
              "<table border=\"1\" class=\"dataframe\">\n",
              "  <thead>\n",
              "    <tr style=\"text-align: right;\">\n",
              "      <th></th>\n",
              "      <th>created_at</th>\n",
              "      <th>sentiment_label_BoW</th>\n",
              "    </tr>\n",
              "  </thead>\n",
              "  <tbody>\n",
              "    <tr>\n",
              "      <th>0</th>\n",
              "      <td>2017-05-18</td>\n",
              "      <td>4.000000</td>\n",
              "    </tr>\n",
              "    <tr>\n",
              "      <th>1</th>\n",
              "      <td>2017-05-19</td>\n",
              "      <td>1.263158</td>\n",
              "    </tr>\n",
              "    <tr>\n",
              "      <th>2</th>\n",
              "      <td>2017-05-20</td>\n",
              "      <td>1.454545</td>\n",
              "    </tr>\n",
              "  </tbody>\n",
              "</table>\n",
              "</div>\n",
              "      <button class=\"colab-df-convert\" onclick=\"convertToInteractive('df-bdea5aa1-7dff-4adb-92df-2273de8a133c')\"\n",
              "              title=\"Convert this dataframe to an interactive table.\"\n",
              "              style=\"display:none;\">\n",
              "        \n",
              "  <svg xmlns=\"http://www.w3.org/2000/svg\" height=\"24px\"viewBox=\"0 0 24 24\"\n",
              "       width=\"24px\">\n",
              "    <path d=\"M0 0h24v24H0V0z\" fill=\"none\"/>\n",
              "    <path d=\"M18.56 5.44l.94 2.06.94-2.06 2.06-.94-2.06-.94-.94-2.06-.94 2.06-2.06.94zm-11 1L8.5 8.5l.94-2.06 2.06-.94-2.06-.94L8.5 2.5l-.94 2.06-2.06.94zm10 10l.94 2.06.94-2.06 2.06-.94-2.06-.94-.94-2.06-.94 2.06-2.06.94z\"/><path d=\"M17.41 7.96l-1.37-1.37c-.4-.4-.92-.59-1.43-.59-.52 0-1.04.2-1.43.59L10.3 9.45l-7.72 7.72c-.78.78-.78 2.05 0 2.83L4 21.41c.39.39.9.59 1.41.59.51 0 1.02-.2 1.41-.59l7.78-7.78 2.81-2.81c.8-.78.8-2.07 0-2.86zM5.41 20L4 18.59l7.72-7.72 1.47 1.35L5.41 20z\"/>\n",
              "  </svg>\n",
              "      </button>\n",
              "      \n",
              "  <style>\n",
              "    .colab-df-container {\n",
              "      display:flex;\n",
              "      flex-wrap:wrap;\n",
              "      gap: 12px;\n",
              "    }\n",
              "\n",
              "    .colab-df-convert {\n",
              "      background-color: #E8F0FE;\n",
              "      border: none;\n",
              "      border-radius: 50%;\n",
              "      cursor: pointer;\n",
              "      display: none;\n",
              "      fill: #1967D2;\n",
              "      height: 32px;\n",
              "      padding: 0 0 0 0;\n",
              "      width: 32px;\n",
              "    }\n",
              "\n",
              "    .colab-df-convert:hover {\n",
              "      background-color: #E2EBFA;\n",
              "      box-shadow: 0px 1px 2px rgba(60, 64, 67, 0.3), 0px 1px 3px 1px rgba(60, 64, 67, 0.15);\n",
              "      fill: #174EA6;\n",
              "    }\n",
              "\n",
              "    [theme=dark] .colab-df-convert {\n",
              "      background-color: #3B4455;\n",
              "      fill: #D2E3FC;\n",
              "    }\n",
              "\n",
              "    [theme=dark] .colab-df-convert:hover {\n",
              "      background-color: #434B5C;\n",
              "      box-shadow: 0px 1px 3px 1px rgba(0, 0, 0, 0.15);\n",
              "      filter: drop-shadow(0px 1px 2px rgba(0, 0, 0, 0.3));\n",
              "      fill: #FFFFFF;\n",
              "    }\n",
              "  </style>\n",
              "\n",
              "      <script>\n",
              "        const buttonEl =\n",
              "          document.querySelector('#df-bdea5aa1-7dff-4adb-92df-2273de8a133c button.colab-df-convert');\n",
              "        buttonEl.style.display =\n",
              "          google.colab.kernel.accessAllowed ? 'block' : 'none';\n",
              "\n",
              "        async function convertToInteractive(key) {\n",
              "          const element = document.querySelector('#df-bdea5aa1-7dff-4adb-92df-2273de8a133c');\n",
              "          const dataTable =\n",
              "            await google.colab.kernel.invokeFunction('convertToInteractive',\n",
              "                                                     [key], {});\n",
              "          if (!dataTable) return;\n",
              "\n",
              "          const docLinkHtml = 'Like what you see? Visit the ' +\n",
              "            '<a target=\"_blank\" href=https://colab.research.google.com/notebooks/data_table.ipynb>data table notebook</a>'\n",
              "            + ' to learn more about interactive tables.';\n",
              "          element.innerHTML = '';\n",
              "          dataTable['output_type'] = 'display_data';\n",
              "          await google.colab.output.renderOutput(dataTable, element);\n",
              "          const docLink = document.createElement('div');\n",
              "          docLink.innerHTML = docLinkHtml;\n",
              "          element.appendChild(docLink);\n",
              "        }\n",
              "      </script>\n",
              "    </div>\n",
              "  </div>\n",
              "  "
            ]
          },
          "metadata": {},
          "execution_count": 71
        }
      ]
    },
    {
      "cell_type": "markdown",
      "source": [
        "Saving this dataframe for furthure use:"
      ],
      "metadata": {
        "id": "JKQcFXJ5qfLt"
      }
    },
    {
      "cell_type": "code",
      "source": [
        "try:\n",
        "    file_n = open('gdrive/MyDrive/DataScience/Project/BoWSentiment_Daily_tweets_Phase_3.csv', 'wb')\n",
        "    pickle.dump(SentimentDaily_tweets_BoW, file_n)\n",
        "    file_n.close()\n",
        "except:\n",
        "    print(\"Something went wrong in saving the doctionary\")"
      ],
      "metadata": {
        "id": "0vTSYR0Vqico"
      },
      "execution_count": 72,
      "outputs": []
    },
    {
      "cell_type": "markdown",
      "source": [
        "### Distribution of sentiments of tweets (using TFIDF labels) per day:"
      ],
      "metadata": {
        "id": "5O94Akwk5bEP"
      }
    },
    {
      "cell_type": "code",
      "source": [
        "SentimentDaily_tweets_TFIDF = desired_IDs_dataframe.groupby(pd.PeriodIndex(desired_IDs_dataframe['created_at'], freq=\"D\"))['sentiment_label_TFIDF'].mean().reset_index()"
      ],
      "metadata": {
        "id": "YaaeOtYf5cwS"
      },
      "execution_count": 73,
      "outputs": []
    },
    {
      "cell_type": "code",
      "source": [
        "#SentimentDaily_tweets_TFIDF['sentiment_label_TFIDF'] = SentimentDaily_tweets_TFIDF['sentiment_label_TFIDF'].map(lambda label: label_detector(label))"
      ],
      "metadata": {
        "id": "lYlEPeWP9KJs"
      },
      "execution_count": 74,
      "outputs": []
    },
    {
      "cell_type": "code",
      "source": [
        "SentimentDaily_tweets_TFIDF.head(3)"
      ],
      "metadata": {
        "colab": {
          "base_uri": "https://localhost:8080/",
          "height": 143
        },
        "id": "G6GMWzX49keW",
        "outputId": "ca1aa76c-e443-48ae-d258-1a91210a87ee"
      },
      "execution_count": 75,
      "outputs": [
        {
          "output_type": "execute_result",
          "data": {
            "text/plain": [
              "   created_at  sentiment_label_TFIDF\n",
              "0  2017-05-18               4.000000\n",
              "1  2017-05-19               1.684211\n",
              "2  2017-05-20               1.818182"
            ],
            "text/html": [
              "\n",
              "  <div id=\"df-63cd5a3b-eb25-4a99-b9d1-3739faeea660\">\n",
              "    <div class=\"colab-df-container\">\n",
              "      <div>\n",
              "<style scoped>\n",
              "    .dataframe tbody tr th:only-of-type {\n",
              "        vertical-align: middle;\n",
              "    }\n",
              "\n",
              "    .dataframe tbody tr th {\n",
              "        vertical-align: top;\n",
              "    }\n",
              "\n",
              "    .dataframe thead th {\n",
              "        text-align: right;\n",
              "    }\n",
              "</style>\n",
              "<table border=\"1\" class=\"dataframe\">\n",
              "  <thead>\n",
              "    <tr style=\"text-align: right;\">\n",
              "      <th></th>\n",
              "      <th>created_at</th>\n",
              "      <th>sentiment_label_TFIDF</th>\n",
              "    </tr>\n",
              "  </thead>\n",
              "  <tbody>\n",
              "    <tr>\n",
              "      <th>0</th>\n",
              "      <td>2017-05-18</td>\n",
              "      <td>4.000000</td>\n",
              "    </tr>\n",
              "    <tr>\n",
              "      <th>1</th>\n",
              "      <td>2017-05-19</td>\n",
              "      <td>1.684211</td>\n",
              "    </tr>\n",
              "    <tr>\n",
              "      <th>2</th>\n",
              "      <td>2017-05-20</td>\n",
              "      <td>1.818182</td>\n",
              "    </tr>\n",
              "  </tbody>\n",
              "</table>\n",
              "</div>\n",
              "      <button class=\"colab-df-convert\" onclick=\"convertToInteractive('df-63cd5a3b-eb25-4a99-b9d1-3739faeea660')\"\n",
              "              title=\"Convert this dataframe to an interactive table.\"\n",
              "              style=\"display:none;\">\n",
              "        \n",
              "  <svg xmlns=\"http://www.w3.org/2000/svg\" height=\"24px\"viewBox=\"0 0 24 24\"\n",
              "       width=\"24px\">\n",
              "    <path d=\"M0 0h24v24H0V0z\" fill=\"none\"/>\n",
              "    <path d=\"M18.56 5.44l.94 2.06.94-2.06 2.06-.94-2.06-.94-.94-2.06-.94 2.06-2.06.94zm-11 1L8.5 8.5l.94-2.06 2.06-.94-2.06-.94L8.5 2.5l-.94 2.06-2.06.94zm10 10l.94 2.06.94-2.06 2.06-.94-2.06-.94-.94-2.06-.94 2.06-2.06.94z\"/><path d=\"M17.41 7.96l-1.37-1.37c-.4-.4-.92-.59-1.43-.59-.52 0-1.04.2-1.43.59L10.3 9.45l-7.72 7.72c-.78.78-.78 2.05 0 2.83L4 21.41c.39.39.9.59 1.41.59.51 0 1.02-.2 1.41-.59l7.78-7.78 2.81-2.81c.8-.78.8-2.07 0-2.86zM5.41 20L4 18.59l7.72-7.72 1.47 1.35L5.41 20z\"/>\n",
              "  </svg>\n",
              "      </button>\n",
              "      \n",
              "  <style>\n",
              "    .colab-df-container {\n",
              "      display:flex;\n",
              "      flex-wrap:wrap;\n",
              "      gap: 12px;\n",
              "    }\n",
              "\n",
              "    .colab-df-convert {\n",
              "      background-color: #E8F0FE;\n",
              "      border: none;\n",
              "      border-radius: 50%;\n",
              "      cursor: pointer;\n",
              "      display: none;\n",
              "      fill: #1967D2;\n",
              "      height: 32px;\n",
              "      padding: 0 0 0 0;\n",
              "      width: 32px;\n",
              "    }\n",
              "\n",
              "    .colab-df-convert:hover {\n",
              "      background-color: #E2EBFA;\n",
              "      box-shadow: 0px 1px 2px rgba(60, 64, 67, 0.3), 0px 1px 3px 1px rgba(60, 64, 67, 0.15);\n",
              "      fill: #174EA6;\n",
              "    }\n",
              "\n",
              "    [theme=dark] .colab-df-convert {\n",
              "      background-color: #3B4455;\n",
              "      fill: #D2E3FC;\n",
              "    }\n",
              "\n",
              "    [theme=dark] .colab-df-convert:hover {\n",
              "      background-color: #434B5C;\n",
              "      box-shadow: 0px 1px 3px 1px rgba(0, 0, 0, 0.15);\n",
              "      filter: drop-shadow(0px 1px 2px rgba(0, 0, 0, 0.3));\n",
              "      fill: #FFFFFF;\n",
              "    }\n",
              "  </style>\n",
              "\n",
              "      <script>\n",
              "        const buttonEl =\n",
              "          document.querySelector('#df-63cd5a3b-eb25-4a99-b9d1-3739faeea660 button.colab-df-convert');\n",
              "        buttonEl.style.display =\n",
              "          google.colab.kernel.accessAllowed ? 'block' : 'none';\n",
              "\n",
              "        async function convertToInteractive(key) {\n",
              "          const element = document.querySelector('#df-63cd5a3b-eb25-4a99-b9d1-3739faeea660');\n",
              "          const dataTable =\n",
              "            await google.colab.kernel.invokeFunction('convertToInteractive',\n",
              "                                                     [key], {});\n",
              "          if (!dataTable) return;\n",
              "\n",
              "          const docLinkHtml = 'Like what you see? Visit the ' +\n",
              "            '<a target=\"_blank\" href=https://colab.research.google.com/notebooks/data_table.ipynb>data table notebook</a>'\n",
              "            + ' to learn more about interactive tables.';\n",
              "          element.innerHTML = '';\n",
              "          dataTable['output_type'] = 'display_data';\n",
              "          await google.colab.output.renderOutput(dataTable, element);\n",
              "          const docLink = document.createElement('div');\n",
              "          docLink.innerHTML = docLinkHtml;\n",
              "          element.appendChild(docLink);\n",
              "        }\n",
              "      </script>\n",
              "    </div>\n",
              "  </div>\n",
              "  "
            ]
          },
          "metadata": {},
          "execution_count": 75
        }
      ]
    },
    {
      "cell_type": "markdown",
      "source": [
        "Saving this dataframe for furthure use:"
      ],
      "metadata": {
        "id": "iSsYqbFP9p6S"
      }
    },
    {
      "cell_type": "code",
      "source": [
        "try:\n",
        "    file_n = open('gdrive/MyDrive/DataScience/Project/BoWSentiment_Daily_tweets_Phase_3.csv', 'wb')\n",
        "    pickle.dump(SentimentDaily_tweets_TFIDF, file_n)\n",
        "    file_n.close()\n",
        "except:\n",
        "    print(\"Something went wrong in saving the doctionary\")"
      ],
      "metadata": {
        "id": "mfO0MVrH9nKv"
      },
      "execution_count": 76,
      "outputs": []
    },
    {
      "cell_type": "markdown",
      "source": [
        "scatter plot:"
      ],
      "metadata": {
        "id": "JKGRAjSzJqJ9"
      }
    },
    {
      "cell_type": "code",
      "source": [
        "fig, ax = plt.subplots(1, 1, figsize=(8, 6))\n",
        "ax.scatter(NumDaily_tweets.n, SentimentDaily_tweets_BoW.sentiment_label_BoW, c='b', label='BoW')\n",
        "ax.scatter(NumDaily_tweets.n, SentimentDaily_tweets_TFIDF.sentiment_label_TFIDF, c='r', label='TF-IDF')\n",
        "ax.set_xlabel('Number of tweets incuding at least one stock per day')\n",
        "ax.set_ylabel('Average sentiments of tweets including at least one stock per day')\n",
        "ax.legend()\n",
        "plt.show()"
      ],
      "metadata": {
        "colab": {
          "base_uri": "https://localhost:8080/",
          "height": 390
        },
        "id": "CVPRIGz4JrqF",
        "outputId": "c1ce0304-6987-47d4-db54-da5946f882a5"
      },
      "execution_count": 77,
      "outputs": [
        {
          "output_type": "display_data",
          "data": {
            "text/plain": [
              "<Figure size 576x432 with 1 Axes>"
            ],
            "image/png": "[encoded data removed]"
          },
          "metadata": {
            "needs_background": "light"
          }
        }
      ]
    },
    {
      "cell_type": "markdown",
      "source": [
        "Frome the above graph we see that there is no correlation between number of tweets which contain stocks names over time, and their sentiments over time.\n",
        "In the following part, I calculate the correlation between these two vairiables using the dataframes obtained in the last part and Pearson and Spearman coefficients as correlation metrics:"
      ],
      "metadata": {
        "id": "2dL3WNuRbali"
      }
    },
    {
      "cell_type": "markdown",
      "source": [
        "### Pearson Correlation Coefficient :"
      ],
      "metadata": {
        "id": "GGKOu3ZSzsM4"
      }
    },
    {
      "cell_type": "code",
      "source": [
        "from scipy.stats import pearsonr"
      ],
      "metadata": {
        "id": "ymiVjRU7-_lD"
      },
      "execution_count": 78,
      "outputs": []
    },
    {
      "cell_type": "markdown",
      "source": [
        "With BoW model results:"
      ],
      "metadata": {
        "id": "tv2QrzqMzzU2"
      }
    },
    {
      "cell_type": "code",
      "source": [
        "PearsonCorr_BoW, _ = pearsonr(NumDaily_tweets.n, SentimentDaily_tweets_BoW.sentiment_label_BoW)"
      ],
      "metadata": {
        "id": "3kVVGS5K_H9w"
      },
      "execution_count": 79,
      "outputs": []
    },
    {
      "cell_type": "code",
      "source": [
        "print('Pearson correlation coefficient between number of stocks per day and the sentiments per day using BoW feature model is: ', PearsonCorr_BoW)"
      ],
      "metadata": {
        "colab": {
          "base_uri": "https://localhost:8080/"
        },
        "id": "5W5iuIpJAWFc",
        "outputId": "68413522-89e8-43a9-beba-b69aa5acfe25"
      },
      "execution_count": 80,
      "outputs": [
        {
          "output_type": "stream",
          "name": "stdout",
          "text": [
            "Pearson correlation coefficient between number of stocks per day and the sentiments per day using BoW feature model is:  -0.17663615213563053\n"
          ]
        }
      ]
    },
    {
      "cell_type": "markdown",
      "source": [
        "With TF-IDF results:"
      ],
      "metadata": {
        "id": "svCYpLLM_l6u"
      }
    },
    {
      "cell_type": "code",
      "source": [
        "PearsonCorr_TFIDF, _ = pearsonr(NumDaily_tweets.n, SentimentDaily_tweets_TFIDF.sentiment_label_TFIDF)"
      ],
      "metadata": {
        "id": "DefBII95_osi"
      },
      "execution_count": 81,
      "outputs": []
    },
    {
      "cell_type": "code",
      "source": [
        "print('Pearson correlation coefficient between number of stocks per day and the sentiments per day using TF-IDF feature model is: ', PearsonCorr_TFIDF)"
      ],
      "metadata": {
        "colab": {
          "base_uri": "https://localhost:8080/"
        },
        "id": "8B_nRbwL_WMt",
        "outputId": "9fdcd948-5adc-4353-8060-4fc7cce12278"
      },
      "execution_count": 82,
      "outputs": [
        {
          "output_type": "stream",
          "name": "stdout",
          "text": [
            "Pearson correlation coefficient between number of stocks per day and the sentiments per day using TF-IDF feature model is:  -0.20583736193071323\n"
          ]
        }
      ]
    },
    {
      "cell_type": "markdown",
      "source": [
        "### **Conclusion:**"
      ],
      "metadata": {
        "id": "vfqu2vGyCsR-"
      }
    },
    {
      "cell_type": "markdown",
      "source": [
        "Based on the above finding, we can conclude that there is **no linear** **correlation** between number of financial tweets per day and sentiments of those tweets per day."
      ],
      "metadata": {
        "id": "7dn54XBtCvvy"
      }
    },
    {
      "cell_type": "markdown",
      "source": [
        "## Spearman’s Correlation Coefficient:"
      ],
      "metadata": {
        "id": "zQijByCeCiZV"
      }
    },
    {
      "cell_type": "markdown",
      "source": [
        "With BoW model results:"
      ],
      "metadata": {
        "id": "EMbw-foaEnTF"
      }
    },
    {
      "cell_type": "code",
      "source": [
        "from scipy.stats import spearmanr"
      ],
      "metadata": {
        "id": "vrdjftqGCmDt"
      },
      "execution_count": 83,
      "outputs": []
    },
    {
      "cell_type": "code",
      "source": [
        "SpearmanrCorr_BoW, _ = spearmanr(NumDaily_tweets.n, SentimentDaily_tweets_BoW.sentiment_label_BoW)"
      ],
      "metadata": {
        "id": "OcdfxcDiEPzI"
      },
      "execution_count": 84,
      "outputs": []
    },
    {
      "cell_type": "code",
      "source": [
        "print('Spearman correlation coefficient between number of stocks per day and the sentiments per day using BoW feature model is: ', SpearmanrCorr_BoW)"
      ],
      "metadata": {
        "colab": {
          "base_uri": "https://localhost:8080/"
        },
        "id": "PE8_Z026Exf4",
        "outputId": "36e554a0-0b50-4d08-e9c5-c7a70d4cf430"
      },
      "execution_count": 85,
      "outputs": [
        {
          "output_type": "stream",
          "name": "stdout",
          "text": [
            "Spearman correlation coefficient between number of stocks per day and the sentiments per day using BoW feature model is:  -0.0648402836024052\n"
          ]
        }
      ]
    },
    {
      "cell_type": "markdown",
      "source": [
        "With TF-IDF model results:"
      ],
      "metadata": {
        "id": "Lqj869SlEnsz"
      }
    },
    {
      "cell_type": "code",
      "source": [
        "SpearmanrCorr_TFIDF, _ = spearmanr(NumDaily_tweets.n, SentimentDaily_tweets_TFIDF.sentiment_label_TFIDF)"
      ],
      "metadata": {
        "id": "I1oiPg9fEpSG"
      },
      "execution_count": 86,
      "outputs": []
    },
    {
      "cell_type": "code",
      "source": [
        "print('Spearman correlation coefficient between number of stocks per day and the sentiments per day using TF-IDF feature model is: ', SpearmanrCorr_TFIDF)"
      ],
      "metadata": {
        "colab": {
          "base_uri": "https://localhost:8080/"
        },
        "id": "t0I_JXAZFRwx",
        "outputId": "8e30982f-c93f-499c-b793-f5d6f81543f4"
      },
      "execution_count": 87,
      "outputs": [
        {
          "output_type": "stream",
          "name": "stdout",
          "text": [
            "Spearman correlation coefficient between number of stocks per day and the sentiments per day using TF-IDF feature model is:  -0.1377051146146205\n"
          ]
        }
      ]
    },
    {
      "cell_type": "markdown",
      "source": [
        "### **Conclusion:**"
      ],
      "metadata": {
        "id": "qn7Rh0H0Fehc"
      }
    },
    {
      "cell_type": "markdown",
      "source": [
        "Based on the above findings, we can conclude that there is **no strong nonlinear** **correlation** between number of financial tweets per day and sentiments of tweets per day."
      ],
      "metadata": {
        "id": "Vwu2TRRaFcrr"
      }
    },
    {
      "cell_type": "markdown",
      "source": [
        "# Part 3-b: Another view: Correlation between number tweets about **Jefferies Group LLC** and the sentiment of those tweets over time"
      ],
      "metadata": {
        "id": "-LMQoPXvZOyV"
      }
    },
    {
      "cell_type": "markdown",
      "source": [
        "In this part I try a differnt approach. I analyze the correlation between number of times the **Jefferies Group LLC** is mentioned in tweets over time, and the sentiments of those tweets over time."
      ],
      "metadata": {
        "id": "SW2GmEoQaJzV"
      }
    },
    {
      "cell_type": "code",
      "source": [
        "tweets_IDs2 = []                 # IDs of tweets containing \"Jefferies Group LLC\" in them\n",
        "tweets_created_at2 = []          # creation time of tweets containing \"Jefferies Group LLC\" in them\n",
        "tweets_sentiment_label_BoW2 = []\n",
        "tweets_sentiment_label_TFIDF2 = []\n",
        "\n",
        "for i in range(len(tweets_reduced)):\n",
        "  if (\"Morgan Stanley\" in tweets_reduced.text[i]):\n",
        "    tweets_IDs2.append(tweets_reduced.id[i])\n",
        "    tweets_created_at2.append(tweets_reduced.created_at[i])\n",
        "    tweets_sentiment_label_BoW2.append(tweets_reduced.sentiment_label_BoW[i])\n",
        "    tweets_sentiment_label_TFIDF2.append(tweets_reduced.sentiment_label_TFIDF[i])"
      ],
      "metadata": {
        "id": "NBl12p26o2Q1"
      },
      "execution_count": 88,
      "outputs": []
    },
    {
      "cell_type": "markdown",
      "source": [
        "creating a dataframe with these tweets:"
      ],
      "metadata": {
        "id": "MMikNy50JZ1m"
      }
    },
    {
      "cell_type": "code",
      "source": [
        "Morgan_Stanley_tweets_dataframe = pd.DataFrame()\n",
        "Morgan_Stanley_tweets_dataframe['id'] = tweets_IDs2\n",
        "Morgan_Stanley_tweets_dataframe['created_at'] = tweets_created_at2\n",
        "Morgan_Stanley_tweets_dataframe['tweets_sentiment_label_BoW'] = tweets_sentiment_label_BoW2\n",
        "Morgan_Stanley_tweets_dataframe['tweets_sentiment_label_TFIDF'] = tweets_sentiment_label_TFIDF2\n",
        "Morgan_Stanley_tweets_dataframe['n'] = [1]*len(tweets_IDs2)"
      ],
      "metadata": {
        "id": "g2Avfk3qJcoQ"
      },
      "execution_count": 89,
      "outputs": []
    },
    {
      "cell_type": "code",
      "source": [
        "Morgan_Stanley_tweets_dataframe.head(3)"
      ],
      "metadata": {
        "colab": {
          "base_uri": "https://localhost:8080/",
          "height": 143
        },
        "id": "GH9wvnsKLIGN",
        "outputId": "bcfcdfb1-1f69-4c8a-9ea0-11726c77824e"
      },
      "execution_count": 90,
      "outputs": [
        {
          "output_type": "execute_result",
          "data": {
            "text/plain": [
              "                   id                created_at  tweets_sentiment_label_BoW  \\\n",
              "0  866661030314864641 2017-05-22 14:24:26+00:00                           0   \n",
              "1  868043169929277440 2017-05-26 09:56:33+00:00                           0   \n",
              "2  869156959995514880 2017-05-29 11:42:22+00:00                           4   \n",
              "\n",
              "   tweets_sentiment_label_TFIDF  n  \n",
              "0                             4  1  \n",
              "1                             0  1  \n",
              "2                             4  1  "
            ],
            "text/html": [
              "\n",
              "  <div id=\"df-2aa2648d-00f1-4ddb-a959-cdd4b9849420\">\n",
              "    <div class=\"colab-df-container\">\n",
              "      <div>\n",
              "<style scoped>\n",
              "    .dataframe tbody tr th:only-of-type {\n",
              "        vertical-align: middle;\n",
              "    }\n",
              "\n",
              "    .dataframe tbody tr th {\n",
              "        vertical-align: top;\n",
              "    }\n",
              "\n",
              "    .dataframe thead th {\n",
              "        text-align: right;\n",
              "    }\n",
              "</style>\n",
              "<table border=\"1\" class=\"dataframe\">\n",
              "  <thead>\n",
              "    <tr style=\"text-align: right;\">\n",
              "      <th></th>\n",
              "      <th>id</th>\n",
              "      <th>created_at</th>\n",
              "      <th>tweets_sentiment_label_BoW</th>\n",
              "      <th>tweets_sentiment_label_TFIDF</th>\n",
              "      <th>n</th>\n",
              "    </tr>\n",
              "  </thead>\n",
              "  <tbody>\n",
              "    <tr>\n",
              "      <th>0</th>\n",
              "      <td>866661030314864641</td>\n",
              "      <td>2017-05-22 14:24:26+00:00</td>\n",
              "      <td>0</td>\n",
              "      <td>4</td>\n",
              "      <td>1</td>\n",
              "    </tr>\n",
              "    <tr>\n",
              "      <th>1</th>\n",
              "      <td>868043169929277440</td>\n",
              "      <td>2017-05-26 09:56:33+00:00</td>\n",
              "      <td>0</td>\n",
              "      <td>0</td>\n",
              "      <td>1</td>\n",
              "    </tr>\n",
              "    <tr>\n",
              "      <th>2</th>\n",
              "      <td>869156959995514880</td>\n",
              "      <td>2017-05-29 11:42:22+00:00</td>\n",
              "      <td>4</td>\n",
              "      <td>4</td>\n",
              "      <td>1</td>\n",
              "    </tr>\n",
              "  </tbody>\n",
              "</table>\n",
              "</div>\n",
              "      <button class=\"colab-df-convert\" onclick=\"convertToInteractive('df-2aa2648d-00f1-4ddb-a959-cdd4b9849420')\"\n",
              "              title=\"Convert this dataframe to an interactive table.\"\n",
              "              style=\"display:none;\">\n",
              "        \n",
              "  <svg xmlns=\"http://www.w3.org/2000/svg\" height=\"24px\"viewBox=\"0 0 24 24\"\n",
              "       width=\"24px\">\n",
              "    <path d=\"M0 0h24v24H0V0z\" fill=\"none\"/>\n",
              "    <path d=\"M18.56 5.44l.94 2.06.94-2.06 2.06-.94-2.06-.94-.94-2.06-.94 2.06-2.06.94zm-11 1L8.5 8.5l.94-2.06 2.06-.94-2.06-.94L8.5 2.5l-.94 2.06-2.06.94zm10 10l.94 2.06.94-2.06 2.06-.94-2.06-.94-.94-2.06-.94 2.06-2.06.94z\"/><path d=\"M17.41 7.96l-1.37-1.37c-.4-.4-.92-.59-1.43-.59-.52 0-1.04.2-1.43.59L10.3 9.45l-7.72 7.72c-.78.78-.78 2.05 0 2.83L4 21.41c.39.39.9.59 1.41.59.51 0 1.02-.2 1.41-.59l7.78-7.78 2.81-2.81c.8-.78.8-2.07 0-2.86zM5.41 20L4 18.59l7.72-7.72 1.47 1.35L5.41 20z\"/>\n",
              "  </svg>\n",
              "      </button>\n",
              "      \n",
              "  <style>\n",
              "    .colab-df-container {\n",
              "      display:flex;\n",
              "      flex-wrap:wrap;\n",
              "      gap: 12px;\n",
              "    }\n",
              "\n",
              "    .colab-df-convert {\n",
              "      background-color: #E8F0FE;\n",
              "      border: none;\n",
              "      border-radius: 50%;\n",
              "      cursor: pointer;\n",
              "      display: none;\n",
              "      fill: #1967D2;\n",
              "      height: 32px;\n",
              "      padding: 0 0 0 0;\n",
              "      width: 32px;\n",
              "    }\n",
              "\n",
              "    .colab-df-convert:hover {\n",
              "      background-color: #E2EBFA;\n",
              "      box-shadow: 0px 1px 2px rgba(60, 64, 67, 0.3), 0px 1px 3px 1px rgba(60, 64, 67, 0.15);\n",
              "      fill: #174EA6;\n",
              "    }\n",
              "\n",
              "    [theme=dark] .colab-df-convert {\n",
              "      background-color: #3B4455;\n",
              "      fill: #D2E3FC;\n",
              "    }\n",
              "\n",
              "    [theme=dark] .colab-df-convert:hover {\n",
              "      background-color: #434B5C;\n",
              "      box-shadow: 0px 1px 3px 1px rgba(0, 0, 0, 0.15);\n",
              "      filter: drop-shadow(0px 1px 2px rgba(0, 0, 0, 0.3));\n",
              "      fill: #FFFFFF;\n",
              "    }\n",
              "  </style>\n",
              "\n",
              "      <script>\n",
              "        const buttonEl =\n",
              "          document.querySelector('#df-2aa2648d-00f1-4ddb-a959-cdd4b9849420 button.colab-df-convert');\n",
              "        buttonEl.style.display =\n",
              "          google.colab.kernel.accessAllowed ? 'block' : 'none';\n",
              "\n",
              "        async function convertToInteractive(key) {\n",
              "          const element = document.querySelector('#df-2aa2648d-00f1-4ddb-a959-cdd4b9849420');\n",
              "          const dataTable =\n",
              "            await google.colab.kernel.invokeFunction('convertToInteractive',\n",
              "                                                     [key], {});\n",
              "          if (!dataTable) return;\n",
              "\n",
              "          const docLinkHtml = 'Like what you see? Visit the ' +\n",
              "            '<a target=\"_blank\" href=https://colab.research.google.com/notebooks/data_table.ipynb>data table notebook</a>'\n",
              "            + ' to learn more about interactive tables.';\n",
              "          element.innerHTML = '';\n",
              "          dataTable['output_type'] = 'display_data';\n",
              "          await google.colab.output.renderOutput(dataTable, element);\n",
              "          const docLink = document.createElement('div');\n",
              "          docLink.innerHTML = docLinkHtml;\n",
              "          element.appendChild(docLink);\n",
              "        }\n",
              "      </script>\n",
              "    </div>\n",
              "  </div>\n",
              "  "
            ]
          },
          "metadata": {},
          "execution_count": 90
        }
      ]
    },
    {
      "cell_type": "markdown",
      "source": [
        "### Distribution of number of tweets including \"Jefferies_Group LLC\" per week:"
      ],
      "metadata": {
        "id": "rJBM51goKl-z"
      }
    },
    {
      "cell_type": "code",
      "source": [
        "NumWeekly_tweets_Morgan_Stanley = Morgan_Stanley_tweets_dataframe.groupby(pd.PeriodIndex(Morgan_Stanley_tweets_dataframe['created_at'], freq=\"W\"))['n'].sum().reset_index()"
      ],
      "metadata": {
        "id": "P02pAivWKfiC"
      },
      "execution_count": 91,
      "outputs": []
    },
    {
      "cell_type": "code",
      "source": [
        "NumWeekly_tweets_Morgan_Stanley.head(5)"
      ],
      "metadata": {
        "colab": {
          "base_uri": "https://localhost:8080/",
          "height": 206
        },
        "id": "d12Ri-9FLfr2",
        "outputId": "b1488d44-9a5c-4dc9-f2cb-7e604e1c6e94"
      },
      "execution_count": 92,
      "outputs": [
        {
          "output_type": "execute_result",
          "data": {
            "text/plain": [
              "              created_at  n\n",
              "0  2017-05-22/2017-05-28  2\n",
              "1  2017-05-29/2017-06-04  1\n",
              "2  2017-06-12/2017-06-18  1\n",
              "3  2017-06-19/2017-06-25  2\n",
              "4  2017-06-26/2017-07-02  2"
            ],
            "text/html": [
              "\n",
              "  <div id=\"df-31a59536-f4c1-4590-9c14-8ae74450e682\">\n",
              "    <div class=\"colab-df-container\">\n",
              "      <div>\n",
              "<style scoped>\n",
              "    .dataframe tbody tr th:only-of-type {\n",
              "        vertical-align: middle;\n",
              "    }\n",
              "\n",
              "    .dataframe tbody tr th {\n",
              "        vertical-align: top;\n",
              "    }\n",
              "\n",
              "    .dataframe thead th {\n",
              "        text-align: right;\n",
              "    }\n",
              "</style>\n",
              "<table border=\"1\" class=\"dataframe\">\n",
              "  <thead>\n",
              "    <tr style=\"text-align: right;\">\n",
              "      <th></th>\n",
              "      <th>created_at</th>\n",
              "      <th>n</th>\n",
              "    </tr>\n",
              "  </thead>\n",
              "  <tbody>\n",
              "    <tr>\n",
              "      <th>0</th>\n",
              "      <td>2017-05-22/2017-05-28</td>\n",
              "      <td>2</td>\n",
              "    </tr>\n",
              "    <tr>\n",
              "      <th>1</th>\n",
              "      <td>2017-05-29/2017-06-04</td>\n",
              "      <td>1</td>\n",
              "    </tr>\n",
              "    <tr>\n",
              "      <th>2</th>\n",
              "      <td>2017-06-12/2017-06-18</td>\n",
              "      <td>1</td>\n",
              "    </tr>\n",
              "    <tr>\n",
              "      <th>3</th>\n",
              "      <td>2017-06-19/2017-06-25</td>\n",
              "      <td>2</td>\n",
              "    </tr>\n",
              "    <tr>\n",
              "      <th>4</th>\n",
              "      <td>2017-06-26/2017-07-02</td>\n",
              "      <td>2</td>\n",
              "    </tr>\n",
              "  </tbody>\n",
              "</table>\n",
              "</div>\n",
              "      <button class=\"colab-df-convert\" onclick=\"convertToInteractive('df-31a59536-f4c1-4590-9c14-8ae74450e682')\"\n",
              "              title=\"Convert this dataframe to an interactive table.\"\n",
              "              style=\"display:none;\">\n",
              "        \n",
              "  <svg xmlns=\"http://www.w3.org/2000/svg\" height=\"24px\"viewBox=\"0 0 24 24\"\n",
              "       width=\"24px\">\n",
              "    <path d=\"M0 0h24v24H0V0z\" fill=\"none\"/>\n",
              "    <path d=\"M18.56 5.44l.94 2.06.94-2.06 2.06-.94-2.06-.94-.94-2.06-.94 2.06-2.06.94zm-11 1L8.5 8.5l.94-2.06 2.06-.94-2.06-.94L8.5 2.5l-.94 2.06-2.06.94zm10 10l.94 2.06.94-2.06 2.06-.94-2.06-.94-.94-2.06-.94 2.06-2.06.94z\"/><path d=\"M17.41 7.96l-1.37-1.37c-.4-.4-.92-.59-1.43-.59-.52 0-1.04.2-1.43.59L10.3 9.45l-7.72 7.72c-.78.78-.78 2.05 0 2.83L4 21.41c.39.39.9.59 1.41.59.51 0 1.02-.2 1.41-.59l7.78-7.78 2.81-2.81c.8-.78.8-2.07 0-2.86zM5.41 20L4 18.59l7.72-7.72 1.47 1.35L5.41 20z\"/>\n",
              "  </svg>\n",
              "      </button>\n",
              "      \n",
              "  <style>\n",
              "    .colab-df-container {\n",
              "      display:flex;\n",
              "      flex-wrap:wrap;\n",
              "      gap: 12px;\n",
              "    }\n",
              "\n",
              "    .colab-df-convert {\n",
              "      background-color: #E8F0FE;\n",
              "      border: none;\n",
              "      border-radius: 50%;\n",
              "      cursor: pointer;\n",
              "      display: none;\n",
              "      fill: #1967D2;\n",
              "      height: 32px;\n",
              "      padding: 0 0 0 0;\n",
              "      width: 32px;\n",
              "    }\n",
              "\n",
              "    .colab-df-convert:hover {\n",
              "      background-color: #E2EBFA;\n",
              "      box-shadow: 0px 1px 2px rgba(60, 64, 67, 0.3), 0px 1px 3px 1px rgba(60, 64, 67, 0.15);\n",
              "      fill: #174EA6;\n",
              "    }\n",
              "\n",
              "    [theme=dark] .colab-df-convert {\n",
              "      background-color: #3B4455;\n",
              "      fill: #D2E3FC;\n",
              "    }\n",
              "\n",
              "    [theme=dark] .colab-df-convert:hover {\n",
              "      background-color: #434B5C;\n",
              "      box-shadow: 0px 1px 3px 1px rgba(0, 0, 0, 0.15);\n",
              "      filter: drop-shadow(0px 1px 2px rgba(0, 0, 0, 0.3));\n",
              "      fill: #FFFFFF;\n",
              "    }\n",
              "  </style>\n",
              "\n",
              "      <script>\n",
              "        const buttonEl =\n",
              "          document.querySelector('#df-31a59536-f4c1-4590-9c14-8ae74450e682 button.colab-df-convert');\n",
              "        buttonEl.style.display =\n",
              "          google.colab.kernel.accessAllowed ? 'block' : 'none';\n",
              "\n",
              "        async function convertToInteractive(key) {\n",
              "          const element = document.querySelector('#df-31a59536-f4c1-4590-9c14-8ae74450e682');\n",
              "          const dataTable =\n",
              "            await google.colab.kernel.invokeFunction('convertToInteractive',\n",
              "                                                     [key], {});\n",
              "          if (!dataTable) return;\n",
              "\n",
              "          const docLinkHtml = 'Like what you see? Visit the ' +\n",
              "            '<a target=\"_blank\" href=https://colab.research.google.com/notebooks/data_table.ipynb>data table notebook</a>'\n",
              "            + ' to learn more about interactive tables.';\n",
              "          element.innerHTML = '';\n",
              "          dataTable['output_type'] = 'display_data';\n",
              "          await google.colab.output.renderOutput(dataTable, element);\n",
              "          const docLink = document.createElement('div');\n",
              "          docLink.innerHTML = docLinkHtml;\n",
              "          element.appendChild(docLink);\n",
              "        }\n",
              "      </script>\n",
              "    </div>\n",
              "  </div>\n",
              "  "
            ]
          },
          "metadata": {},
          "execution_count": 92
        }
      ]
    },
    {
      "cell_type": "markdown",
      "source": [
        "### Distribution of sentiments of tweets including \"Jefferies_Group LLC\" per week:"
      ],
      "metadata": {
        "id": "tjs5Og05LtvM"
      }
    },
    {
      "cell_type": "markdown",
      "source": [
        "BoW"
      ],
      "metadata": {
        "id": "pDX82WWeNXNp"
      }
    },
    {
      "cell_type": "code",
      "source": [
        "SentimentWeekly_tweets_BoW = Morgan_Stanley_tweets_dataframe.groupby(pd.PeriodIndex(Morgan_Stanley_tweets_dataframe['created_at'], freq=\"W\"))['tweets_sentiment_label_BoW'].mean().reset_index()"
      ],
      "metadata": {
        "id": "z2MPCBjiNY_t"
      },
      "execution_count": 93,
      "outputs": []
    },
    {
      "cell_type": "markdown",
      "source": [
        "TF-IDF"
      ],
      "metadata": {
        "id": "s2xM9UgmNuPk"
      }
    },
    {
      "cell_type": "code",
      "source": [
        "SentimentWeekly_tweets_TFIDF = Morgan_Stanley_tweets_dataframe.groupby(pd.PeriodIndex(Morgan_Stanley_tweets_dataframe['created_at'], freq=\"W\"))['tweets_sentiment_label_TFIDF'].mean().reset_index()"
      ],
      "metadata": {
        "id": "bD52z45oNFce"
      },
      "execution_count": 94,
      "outputs": []
    },
    {
      "cell_type": "markdown",
      "source": [
        "plotting:"
      ],
      "metadata": {
        "id": "YG3FWMluSFaY"
      }
    },
    {
      "cell_type": "code",
      "source": [
        "fig, ax = plt.subplots(1, 1, figsize=(6, 4))\n",
        "ax.scatter(NumWeekly_tweets_Morgan_Stanley.n, SentimentWeekly_tweets_BoW.tweets_sentiment_label_BoW, c='b', alpha=0.5, label='BoW')\n",
        "ax.scatter(NumWeekly_tweets_Morgan_Stanley.n, SentimentWeekly_tweets_TFIDF.tweets_sentiment_label_TFIDF, c='r',alpha=0.3,  label='TF-IDF')\n",
        "ax.set_xlabel('Number of weekly tweets about Morgan_Stanley')\n",
        "ax.set_ylabel('Average sentiments of those tweets per week')\n",
        "ax.legend()\n",
        "plt.show()"
      ],
      "metadata": {
        "colab": {
          "base_uri": "https://localhost:8080/",
          "height": 286
        },
        "id": "dCfry3LWThiF",
        "outputId": "96544de5-a152-4b64-f497-2ed1226f85fa"
      },
      "execution_count": 95,
      "outputs": [
        {
          "output_type": "display_data",
          "data": {
            "text/plain": [
              "<Figure size 432x288 with 1 Axes>"
            ],
            "image/png": "[encoded data removed]"
          },
          "metadata": {
            "needs_background": "light"
          }
        }
      ]
    },
    {
      "cell_type": "markdown",
      "source": [
        "No correlation can be seen in the above figure."
      ],
      "metadata": {
        "id": "ZhK7IzeSURzB"
      }
    },
    {
      "cell_type": "markdown",
      "source": [
        "### Pearson Correlation Coefficient :"
      ],
      "metadata": {
        "id": "WF7Q8zy9PKNa"
      }
    },
    {
      "cell_type": "markdown",
      "source": [
        "With BoW model results:"
      ],
      "metadata": {
        "id": "1ENoc4UVPYKL"
      }
    },
    {
      "cell_type": "code",
      "source": [
        "PearsonCorr_BoW_Morgan_Stanley, _ = pearsonr(NumWeekly_tweets_Morgan_Stanley.n, SentimentWeekly_tweets_BoW.tweets_sentiment_label_BoW)"
      ],
      "metadata": {
        "id": "u57MsEzTPYKN"
      },
      "execution_count": 96,
      "outputs": []
    },
    {
      "cell_type": "code",
      "source": [
        "print('Pearson correlation coefficient between number of tweets about Jefferies_Group per day and their sentiments per day using BoW feature model is: ', PearsonCorr_BoW_Morgan_Stanley)"
      ],
      "metadata": {
        "colab": {
          "base_uri": "https://localhost:8080/"
        },
        "outputId": "fb0c7189-1f91-4179-9108-3c8293975234",
        "id": "dQrWLBjdPYKN"
      },
      "execution_count": 97,
      "outputs": [
        {
          "output_type": "stream",
          "name": "stdout",
          "text": [
            "Pearson correlation coefficient between number of tweets about Jefferies_Group per day and their sentiments per day using BoW feature model is:  -0.2404294576599797\n"
          ]
        }
      ]
    },
    {
      "cell_type": "markdown",
      "source": [
        "With TF-IDF results:"
      ],
      "metadata": {
        "id": "la4R_Lc1PYKN"
      }
    },
    {
      "cell_type": "code",
      "source": [
        "PearsonCorr_TFIDF_Morgan, _ = pearsonr(NumWeekly_tweets_Morgan_Stanley.n, SentimentWeekly_tweets_TFIDF.tweets_sentiment_label_TFIDF)"
      ],
      "metadata": {
        "id": "SbyhBD4LPYKN"
      },
      "execution_count": 98,
      "outputs": []
    },
    {
      "cell_type": "code",
      "source": [
        "print('Pearson correlation coefficient between number of tweets about Jefferies_Group per day and their sentiments per day using TFIDF feature model is: ', PearsonCorr_TFIDF_Morgan)"
      ],
      "metadata": {
        "colab": {
          "base_uri": "https://localhost:8080/"
        },
        "outputId": "32f69678-0363-4a92-eed1-dacd57a8450b",
        "id": "E423Rjn8PYKN"
      },
      "execution_count": 99,
      "outputs": [
        {
          "output_type": "stream",
          "name": "stdout",
          "text": [
            "Pearson correlation coefficient between number of tweets about Jefferies_Group per day and their sentiments per day using TFIDF feature model is:  -0.2961927068097396\n"
          ]
        }
      ]
    },
    {
      "cell_type": "markdown",
      "source": [
        "### **Conclusion:**"
      ],
      "metadata": {
        "id": "QWKRe9hEPYKN"
      }
    },
    {
      "cell_type": "markdown",
      "source": [
        "Based on the above findings, we can conclude that there is **no linear** **correlation** between number of tweets about Jefferies Group per day and sentiments of those tweets per day."
      ],
      "metadata": {
        "id": "KTWPpQhvPYKN"
      }
    },
    {
      "cell_type": "markdown",
      "source": [
        "## Spearman’s Correlation Coefficient:"
      ],
      "metadata": {
        "id": "Y_XvzXf-PYKN"
      }
    },
    {
      "cell_type": "markdown",
      "source": [
        "With BoW model results:"
      ],
      "metadata": {
        "id": "wkyiwLKlPYKO"
      }
    },
    {
      "cell_type": "code",
      "source": [
        "SpearmanrCorr_BoW_Morgan_Stanley, _ = spearmanr(NumWeekly_tweets_Morgan_Stanley.n, SentimentWeekly_tweets_BoW.tweets_sentiment_label_BoW)"
      ],
      "metadata": {
        "id": "TZ_7rk2oPYKO"
      },
      "execution_count": 100,
      "outputs": []
    },
    {
      "cell_type": "code",
      "source": [
        "print('Spearman correlation coefficient between number of tweets about Jefferies_Group per day and their sentiments per day using BoW feature model is: ', SpearmanrCorr_BoW_Morgan_Stanley)"
      ],
      "metadata": {
        "colab": {
          "base_uri": "https://localhost:8080/"
        },
        "outputId": "97207d8b-3d53-48c9-f8c9-e08a324b7015",
        "id": "v1mSAxjHPYKO"
      },
      "execution_count": 101,
      "outputs": [
        {
          "output_type": "stream",
          "name": "stdout",
          "text": [
            "Spearman correlation coefficient between number of tweets about Jefferies_Group per day and their sentiments per day using BoW feature model is:  -0.2785702980124483\n"
          ]
        }
      ]
    },
    {
      "cell_type": "markdown",
      "source": [
        "With TF-IDF model results:"
      ],
      "metadata": {
        "id": "6ALlbl4cPYKO"
      }
    },
    {
      "cell_type": "code",
      "source": [
        "SpearmanrCorr_TFIDF_Morgan_Stanley, _ = spearmanr(NumWeekly_tweets_Morgan_Stanley.n, SentimentWeekly_tweets_TFIDF.tweets_sentiment_label_TFIDF)"
      ],
      "metadata": {
        "id": "DvngDvv4PYKO"
      },
      "execution_count": 102,
      "outputs": []
    },
    {
      "cell_type": "code",
      "source": [
        "print('Spearman correlation coefficient between number of tweets about Jefferies_Group per day and their sentiments per day using TF-IDF feature model is: ', SpearmanrCorr_TFIDF_Morgan_Stanley)"
      ],
      "metadata": {
        "colab": {
          "base_uri": "https://localhost:8080/"
        },
        "outputId": "cc710419-ee7d-44fd-a5d6-eba2cc098299",
        "id": "h3Be9G4kPYKO"
      },
      "execution_count": 103,
      "outputs": [
        {
          "output_type": "stream",
          "name": "stdout",
          "text": [
            "Spearman correlation coefficient between number of tweets about Jefferies_Group per day and their sentiments per day using TF-IDF feature model is:  -0.45813263279056476\n"
          ]
        }
      ]
    },
    {
      "cell_type": "markdown",
      "source": [
        "### **Conclusion:**"
      ],
      "metadata": {
        "id": "e0BdJ_n6PYKO"
      }
    },
    {
      "cell_type": "markdown",
      "source": [
        "Based on the above findings, we can conclude that there is **no nonlinear** **correlation** between number of tweets about Jefferies Group per day and sentiments of those tweets per day."
      ],
      "metadata": {
        "id": "lST3qNEQPYKO"
      }
    },
    {
      "cell_type": "markdown",
      "source": [
        "# Part 4: Comparing classifiers results"
      ],
      "metadata": {
        "id": "u9NNDkbaUf8Y"
      }
    },
    {
      "cell_type": "markdown",
      "source": [
        "In the previous parts, I got almost similar results about correlations with both classifiers. (one of the classifiers used BoW features and the other one used TF-IDF features)"
      ],
      "metadata": {
        "id": "7-jmbajlUlgx"
      }
    },
    {
      "cell_type": "markdown",
      "source": [
        "# Part 5: About transfer learning in this project"
      ],
      "metadata": {
        "id": "oa11kEmwU6Z8"
      }
    },
    {
      "cell_type": "markdown",
      "source": [
        "As you could observe, I didn't train a new classifier on the tweets of this dataset; instead, I predicted the sentiment labels of this dataset using the classifiers which were trained in the first phase of the project. This is how transfer learning was used in this project.\n",
        "\n",
        "We should note that fine tuning was not done, because no labels were available for sentiments of this dataset. In fact, if we had even a small amounts of labels for this dataset, we could fine tune the pre-trained classifiers on this dataset and obtain better results."
      ],
      "metadata": {
        "id": "cCg5Wp5WVBG3"
      }
    }
  ]
}